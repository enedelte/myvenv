{
 "cells": [
  {
   "cell_type": "code",
   "execution_count": 20,
   "id": "bdce241a-08f7-4c9c-9d63-296951946d57",
   "metadata": {},
   "outputs": [],
   "source": [
    "import os\n",
    "import pandas as pd\n",
    "import openpyxl"
   ]
  },
  {
   "cell_type": "code",
   "execution_count": 21,
   "id": "d9590cd6-cd17-4fed-b181-de24a7249e09",
   "metadata": {},
   "outputs": [
    {
     "name": "stderr",
     "output_type": "stream",
     "text": [
      "C:\\Users\\dapache\\python_scripts\\myvenv\\Lib\\site-packages\\openpyxl\\worksheet\\_reader.py:329: UserWarning: Data Validation extension is not supported and will be removed\n",
      "  warn(msg)\n",
      "C:\\Users\\dapache\\python_scripts\\myvenv\\Lib\\site-packages\\openpyxl\\worksheet\\_reader.py:329: UserWarning: Web Extension extension is not supported and will be removed\n",
      "  warn(msg)\n"
     ]
    }
   ],
   "source": [
    "certificados_1427_PQRS = (r\"C:\\Users\\dapache\\OneDrive - NUEVA EPS\\CERTIFICADOS DECRECTO_1427_PQRS\\certificados_1427_PQRS.xlsx\")\n",
    "\n",
    "df = pd.read_excel(certificados_1427_PQRS, sheet_name= \"CERTIFICADO_PQRS\", header=0)                   \n",
    "\n",
    "Plano = df.to_csv(\"Onedrive.txt\")\n",
    "print(\"Soporte txt Actualizado\")"
   ]
  },
  {
   "cell_type": "code",
   "execution_count": null,
   "id": "ce30cec4-bc65-473c-94be-d227eebbec23",
   "metadata": {},
   "outputs": [],
   "source": []
  }
 ],
 "metadata": {
  "kernelspec": {
   "display_name": "Python 3 (ipykernel)",
   "language": "python",
   "name": "python3"
  },
  "language_info": {
   "codemirror_mode": {
    "name": "ipython",
    "version": 3
   },
   "file_extension": ".py",
   "mimetype": "text/x-python",
   "name": "python",
   "nbconvert_exporter": "python",
   "pygments_lexer": "ipython3",
   "version": "3.11.3"
  }
 },
 "nbformat": 4,
 "nbformat_minor": 5
}
