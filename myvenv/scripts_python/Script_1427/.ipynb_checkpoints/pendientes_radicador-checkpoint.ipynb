{
 "cells": [
  {
   "cell_type": "code",
   "execution_count": 1,
   "id": "d208bed9-b5c9-4cf7-a3a3-34b893a78195",
   "metadata": {},
   "outputs": [],
   "source": [
    "import pandas as pd\n",
    "import csv"
   ]
  },
  {
   "cell_type": "code",
   "execution_count": 3,
   "id": "70dc2512-d2a3-42f5-9f37-cc30f4fe7c37",
   "metadata": {},
   "outputs": [
    {
     "name": "stdout",
     "output_type": "stream",
     "text": [
      "Se ha actualizado el documento\n",
      " DAVID ALEJANDRO APACHE RODRIGUEZ.txt.\n",
      "Ya puedes verificarlo.\n"
     ]
    }
   ],
   "source": [
    "df = pd.read_csv('certificados.txt', header=1, index_col=0)\n",
    "pendientes_usuario = df[(df['USUARIO_QUE_SOLICITA'] == 'DAVID ALEJANDRO APACHE RODRIGUEZ') & (df['ESTADO_DE_PQRS'] == 'PRECERRADO')]\n",
    "pendientes_usuario.head()\n",
    "pendientes_radicador = pendientes_usuario.to_csv(\"DAVID ALEJANDRO APACHE RODRIGUEZ.txt\",\n",
    "                                header=True,\n",
    "                                index=True,\n",
    "                                sep=' ',\n",
    "                                escapechar=\";\")\n",
    "\n",
    "print(\"Se ha actualizado el documento\\n DAVID ALEJANDRO APACHE RODRIGUEZ.txt.\\nYa puedes verificarlo.\")"
   ]
  },
  {
   "cell_type": "code",
   "execution_count": 4,
   "id": "9e737bbb-5b59-4d63-8324-35b1463a9d2c",
   "metadata": {},
   "outputs": [
    {
     "name": "stdout",
     "output_type": "stream",
     "text": [
      "Se ha actualizado el documento\n",
      " LEIDY JULIETH TORRES AGREDO.txt.\n",
      "Ya puedes verificarlo.\n"
     ]
    }
   ],
   "source": [
    "df = pd.read_csv('certificados.txt', header=1, index_col=0)\n",
    "pendientes_usuario = df[(df['USUARIO_QUE_SOLICITA'] == 'LEIDY JULIETH TORRES AGREDO') & (df['ESTADO_DE_PQRS'] == 'PRECERRADO')]\n",
    "pendientes_usuario.head()\n",
    "pendientes_radicador = pendientes_usuario.to_csv(\"LEIDY JULIETH TORRES AGREDO.txt\",\n",
    "                                header=True,\n",
    "                                index=True,\n",
    "                                sep=' ',\n",
    "                                escapechar=\";\")\n",
    "\n",
    "print(\"Se ha actualizado el documento\\n LEIDY JULIETH TORRES AGREDO.txt.\\nYa puedes verificarlo.\")"
   ]
  },
  {
   "cell_type": "code",
   "execution_count": 5,
   "id": "9c5bf262-6610-4b25-a177-f3b13f0a9fe0",
   "metadata": {},
   "outputs": [
    {
     "name": "stdout",
     "output_type": "stream",
     "text": [
      "Se ha actualizado el documento\n",
      " JHON WILMER PARRA ROJAS.txt.\n",
      "Ya puedes verificarlo.\n"
     ]
    }
   ],
   "source": [
    "df = pd.read_csv('certificados.txt', header=1, index_col=0)\n",
    "pendientes_usuario = df[(df['USUARIO_QUE_SOLICITA'] == 'JHON WILMER PARRA ROJAS') & (df['ESTADO_DE_PQRS'] == 'PRECERRADO')]\n",
    "pendientes_usuario.head()\n",
    "pendientes_radicador = pendientes_usuario.to_csv(\"JHON WILMER PARRA ROJAS.txt\",\n",
    "                                header=True,\n",
    "                                index=True,\n",
    "                                sep=' ',\n",
    "                                escapechar=\";\")\n",
    "\n",
    "print(\"Se ha actualizado el documento\\n JHON WILMER PARRA ROJAS.txt.\\nYa puedes verificarlo.\")"
   ]
  },
  {
   "cell_type": "code",
   "execution_count": 6,
   "id": "a561178d-69b1-44cd-a37b-b593cb54c11b",
   "metadata": {},
   "outputs": [
    {
     "name": "stdout",
     "output_type": "stream",
     "text": [
      "Se ha actualizado el documento\n",
      " ANDREA DEL PILAR BARRIGA LORENZANO.txt.\n",
      "Ya puedes verificarlo.\n"
     ]
    }
   ],
   "source": [
    "df = pd.read_csv('certificados.txt', header=1, index_col=0)\n",
    "pendientes_usuario = df[(df['USUARIO_QUE_SOLICITA'] == 'ANDREA DEL PILAR BARRIGA LORENZANO') & (df['ESTADO_DE_PQRS'] == 'PRECERRADO')]\n",
    "pendientes_usuario.head()\n",
    "pendientes_radicador = pendientes_usuario.to_csv(\"ANDREA DEL PILAR BARRIGA LORENZANO.txt\",\n",
    "                                header=True,\n",
    "                                index=True,\n",
    "                                sep=' ',\n",
    "                                escapechar=\";\")\n",
    "\n",
    "print(\"Se ha actualizado el documento\\n ANDREA DEL PILAR BARRIGA LORENZANO.txt.\\nYa puedes verificarlo.\")"
   ]
  },
  {
   "cell_type": "code",
   "execution_count": 7,
   "id": "cbd6adeb-8ce6-4dec-b21d-7ce966394b73",
   "metadata": {},
   "outputs": [
    {
     "name": "stdout",
     "output_type": "stream",
     "text": [
      "Se ha actualizado el documento\n",
      " VIVIANA MARCELA GARZON MARTIN.txt.\n",
      "Ya puedes verificarlo.\n"
     ]
    }
   ],
   "source": [
    "df = pd.read_csv('certificados.txt', header=1, index_col=0)\n",
    "pendientes_usuario = df[(df['USUARIO_QUE_SOLICITA'] == 'VIVIANA MARCELA GARZON MARTIN') & (df['ESTADO_DE_PQRS'] == 'PRECERRADO')]\n",
    "pendientes_usuario.head()\n",
    "pendientes_radicador = pendientes_usuario.to_csv(\"VIVIANA MARCELA GARZON MARTIN.txt\",\n",
    "                                header=True,\n",
    "                                index=True,\n",
    "                                sep=' ',\n",
    "                                escapechar=\";\")\n",
    "\n",
    "print(\"Se ha actualizado el documento\\n VIVIANA MARCELA GARZON MARTIN.txt.\\nYa puedes verificarlo.\")"
   ]
  },
  {
   "cell_type": "code",
   "execution_count": 8,
   "id": "c69b9639-fede-4d6b-a5fa-cd4402c78613",
   "metadata": {},
   "outputs": [
    {
     "name": "stdout",
     "output_type": "stream",
     "text": [
      "Se ha actualizado el documento\n",
      " YARDEL SEBASTIAN AHUMADA.txt.\n",
      "Ya puedes verificarlo.\n"
     ]
    }
   ],
   "source": [
    "df = pd.read_csv('certificados.txt', header=1, index_col=0)\n",
    "pendientes_usuario = df[(df['USUARIO_QUE_SOLICITA'] == 'YARDEL SEBASTIAN AHUMADA') & (df['ESTADO_DE_PQRS'] == 'PRECERRADO')]\n",
    "pendientes_usuario.head()\n",
    "pendientes_radicador = pendientes_usuario.to_csv(\"YARDEL SEBASTIAN AHUMADA.txt\",\n",
    "                                header=True,\n",
    "                                index=True,\n",
    "                                sep=' ',\n",
    "                                escapechar=\";\")\n",
    "\n",
    "print(\"Se ha actualizado el documento\\n YARDEL SEBASTIAN AHUMADA.txt.\\nYa puedes verificarlo.\")"
   ]
  },
  {
   "cell_type": "code",
   "execution_count": 9,
   "id": "479749f5-7d6e-4c3a-8959-8f142d118420",
   "metadata": {},
   "outputs": [
    {
     "name": "stdout",
     "output_type": "stream",
     "text": [
      "Se ha actualizado el documento\n",
      " MARLON ANDRES AMAYA TRIANA.txt.\n",
      "Ya puedes verificarlo.\n"
     ]
    }
   ],
   "source": [
    "df = pd.read_csv('certificados.txt', header=1, index_col=0)\n",
    "pendientes_usuario = df[(df['USUARIO_QUE_SOLICITA'] == 'MARLON ANDRES AMAYA TRIANA') & (df['ESTADO_DE_PQRS'] == 'PRECERRADO')]\n",
    "pendientes_usuario.head()\n",
    "pendientes_radicador = pendientes_usuario.to_csv(\"MARLON ANDRES AMAYA TRIANA.txt\",\n",
    "                                header=True,\n",
    "                                index=True,\n",
    "                                sep=' ',\n",
    "                                escapechar=\";\")\n",
    "\n",
    "print(\"Se ha actualizado el documento\\n MARLON ANDRES AMAYA TRIANA.txt.\\nYa puedes verificarlo.\")"
   ]
  },
  {
   "cell_type": "code",
   "execution_count": null,
   "id": "d403883f-aaa4-4c6b-9660-d6b5b46c0ffc",
   "metadata": {},
   "outputs": [],
   "source": []
  }
 ],
 "metadata": {
  "kernelspec": {
   "display_name": "Python 3 (ipykernel)",
   "language": "python",
   "name": "python3"
  },
  "language_info": {
   "codemirror_mode": {
    "name": "ipython",
    "version": 3
   },
   "file_extension": ".py",
   "mimetype": "text/x-python",
   "name": "python",
   "nbconvert_exporter": "python",
   "pygments_lexer": "ipython3",
   "version": "3.11.3"
  }
 },
 "nbformat": 4,
 "nbformat_minor": 5
}
