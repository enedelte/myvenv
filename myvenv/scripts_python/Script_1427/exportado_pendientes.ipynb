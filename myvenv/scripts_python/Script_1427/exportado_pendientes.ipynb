{
 "cells": [
  {
   "cell_type": "code",
   "execution_count": 2,
   "id": "55896927-07c5-4d93-8c12-b2b5a9befc5a",
   "metadata": {},
   "outputs": [],
   "source": [
    "import pandas as pd\n",
    "import csv\n",
    "from querygs import plano"
   ]
  },
  {
   "cell_type": "code",
   "execution_count": 4,
   "id": "fba71e20-c0a2-4ca4-9be0-9650fb30165a",
   "metadata": {},
   "outputs": [
    {
     "name": "stdout",
     "output_type": "stream",
     "text": [
      "Se ha actualizado el documento\n",
      " certificados.txt.\n",
      "Ya puedes verificarlo.\n"
     ]
    }
   ],
   "source": [
    "plano.to_csv(\"certificados.txt\", \n",
    "             header=True,\n",
    "             index=True,\n",
    "             sep=',',\n",
    "             quoting=csv.QUOTE_MINIMAL, \n",
    "             escapechar=\";\")\n",
    "\n",
    "print('Se ha actualizado el documento\\n certificados.txt.\\nYa puedes verificarlo.')"
   ]
  },
  {
   "cell_type": "code",
   "execution_count": 7,
   "id": "bcbf8030-5a45-42fe-bac1-1d3b9868ada9",
   "metadata": {},
   "outputs": [],
   "source": [
    "df = pd.read_csv('certificados.txt', header=1, index_col=0, \n",
    "                 sep=',')"
   ]
  },
  {
   "cell_type": "code",
   "execution_count": 66,
   "id": "b686fbc7-20a1-4fc3-8a08-23b80bbafd7c",
   "metadata": {},
   "outputs": [
    {
     "data": {
      "text/plain": [
       "Index([  1,   2,   3,   4,   5,   6,   7,   8,   9,  10,\n",
       "       ...\n",
       "       536, 537, 538, 539, 540, 541, 542, 543, 544, 545],\n",
       "      dtype='int64', name='0', length=545)"
      ]
     },
     "execution_count": 66,
     "metadata": {},
     "output_type": "execute_result"
    }
   ],
   "source": [
    "df.index"
   ]
  },
  {
   "cell_type": "code",
   "execution_count": 68,
   "id": "016290e8-75ff-45fb-989a-134e0d114f57",
   "metadata": {},
   "outputs": [
    {
     "data": {
      "text/plain": [
       "Index(['NUMERO_PQR', 'FECHA_LÍMITE', 'USUARIO_QUE_SOLICITA',\n",
       "       'FECHA_DE_REMISIÓN', 'TIPO_DE_PROCESO', 'CAUSA_REAL',\n",
       "       'N_DOCUMENTO_AFILIADO', 'NO_INCAPACIDAD_INICIAL', 'FECHA_INICIO',\n",
       "       'NO_INCAPACIDAD_FINAL', 'FECHA_FINAL', 'TOTAL_DÍAS_PRÓRROGA',\n",
       "       'ESTADO_DE_PQRS', 'FECHA_DE_ENVIO_A_DPE', 'FECHA_RESPUESTA_DPE',\n",
       "       'Número_celular', 'Nombre_Usuario', '1ra_Fecha_notificación',\n",
       "       '2da_Fecha_notificación', 'Observación'],\n",
       "      dtype='object')"
      ]
     },
     "execution_count": 68,
     "metadata": {},
     "output_type": "execute_result"
    }
   ],
   "source": [
    "df.columns"
   ]
  },
  {
   "cell_type": "code",
   "execution_count": null,
   "id": "f203c309-f1a4-4819-a1ee-6de8b438befc",
   "metadata": {},
   "outputs": [],
   "source": []
  }
 ],
 "metadata": {
  "kernelspec": {
   "display_name": "Python 3 (ipykernel)",
   "language": "python",
   "name": "python3"
  },
  "language_info": {
   "codemirror_mode": {
    "name": "ipython",
    "version": 3
   },
   "file_extension": ".py",
   "mimetype": "text/x-python",
   "name": "python",
   "nbconvert_exporter": "python",
   "pygments_lexer": "ipython3",
   "version": "3.11.3"
  }
 },
 "nbformat": 4,
 "nbformat_minor": 5
}
