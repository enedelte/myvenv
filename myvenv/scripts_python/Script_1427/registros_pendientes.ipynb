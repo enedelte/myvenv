{
 "cells": [
  {
   "cell_type": "markdown",
   "id": "4f1d7e85-7a48-4acd-bffd-6c8f66d84403",
   "metadata": {},
   "source": [
    "### REGISTRO DE PENDIENTES SOLICITUDES PQR CERTIFICADOS 1427 \n",
    "\n",
    "#### Este script tiene como función consultar el estado de las solicitudes de certificados 1427.\n",
    "##### Deberá entenderse que el archivo TXT/CSV que es generado por este script presenta como informe el estado de la información presentada en el documento Worksheet con nombre \"Certificado_decreto_1427\" ubicado en el archivo Workbook \"Seguimiento PQR Procesos PE en la URL \"https://docs.google.com/spreadsheets/d/1_1WFM64NEdKQAAAvoeAdA1ovZTTnAGP1JtvoWgHYfAM/edit#gid=1835695148\"\n",
    "\n",
    "#### En el siguiente paso a paso se describe las acciones del script\n",
    "\n",
    "#### 1. Librerías del Script\n",
    "##### Se importan librerías de manejo de datos \"pandas\" y modulo de lectura de archivos TXT/CSV."
   ]
  },
  {
   "cell_type": "code",
   "execution_count": 4,
   "id": "8fe1364a-ea3f-4652-be4e-916287bf4b2a",
   "metadata": {},
   "outputs": [],
   "source": [
    "import pandas as pd\n",
    "import csv"
   ]
  },
  {
   "cell_type": "markdown",
   "id": "8d658e85-a5f4-40b2-bb4f-ad2c87ebc957",
   "metadata": {},
   "source": [
    "#### 2. Lector de CSV\n",
    "##### Aquí se carga la ruta del archivo CSV que genera el script \"querysgs.py\".\n",
    "###### (Se determina como archivo base para la generación de dataframes que reportan la cantidad de casos pendientes \"precerrado\" y cerrados sobre respuestas a solicitud de certificados 1427.)"
   ]
  },
  {
   "cell_type": "code",
   "execution_count": 5,
   "id": "fe863817-ceab-48e6-8d80-b61b07c7e1f0",
   "metadata": {},
   "outputs": [
    {
     "data": {
      "text/plain": [
       "Index(['NUMERO_PQR', 'FECHA_LÍMITE', 'USUARIO_QUE_SOLICITA',\n",
       "       'FECHA_DE_REMISIÓN', 'TIPO_DE_PROCESO', 'CAUSA_REAL',\n",
       "       'N_DOCUMENTO_AFILIADO', 'NO_INCAPACIDAD_INICIAL', 'FECHA_INICIO',\n",
       "       'NO_INCAPACIDAD_FINAL', 'FECHA_FINAL', 'TOTAL_DÍAS_PRÓRROGA',\n",
       "       'ESTADO_DE_PQRS', 'FECHA_DE_ENVIO_A_DPE', 'FECHA_RESPUESTA_DPE',\n",
       "       'Número_celular', 'Nombre_Usuario', '1ra_Fecha_notificación',\n",
       "       '2da_Fecha_notificación', 'Observación'],\n",
       "      dtype='object')"
      ]
     },
     "execution_count": 5,
     "metadata": {},
     "output_type": "execute_result"
    }
   ],
   "source": [
    "df = pd.read_csv('certificados.txt',\n",
    "                header=1,\n",
    "                index_col=0)\n",
    "df.columns"
   ]
  },
  {
   "cell_type": "markdown",
   "id": "4e6a8b91-4eca-457f-8e2f-e85b560b26f8",
   "metadata": {},
   "source": [
    "#### 3. Filtro de datos por usuario\n",
    "##### Se crea el dataframe \"usuario_solicita\" el cual identifica los casos pendientes de respuesta o generación de respuesta con certificados 1427 por usuario que solicitó.\n",
    "###### (Se podrá modificar el dato buscado dentro de las '' posterior al \"==\". Este valor debe ser exacto al registrado en el worksheet.)"
   ]
  },
  {
   "cell_type": "code",
   "execution_count": 24,
   "id": "b4ad28ba-0e36-4815-bf8c-778ca46dbd96",
   "metadata": {},
   "outputs": [
    {
     "data": {
      "text/plain": [
       "(82, 20)"
      ]
     },
     "execution_count": 24,
     "metadata": {},
     "output_type": "execute_result"
    }
   ],
   "source": [
    "usuario_solicita = df[df['USUARIO_QUE_SOLICITA'] == 'DAVID ALEJANDRO APACHE RODRIGUEZ']\n",
    "usuario_solicita.shape"
   ]
  },
  {
   "cell_type": "markdown",
   "id": "8ee632dc-c675-490e-854c-9c9c5bea77cf",
   "metadata": {},
   "source": [
    "#### 4. Filtro de datos por estado\n",
    "##### Aquí se identifica los casos según su estado. \n",
    "###### (Este dataframe es dependiente del dataframe \"usuario_solicita\". Se podrá modificar el dato buscado dentro de las '' posterior al \"==\". Este valor debe ser exacto al registrado en el worksheet.)"
   ]
  },
  {
   "cell_type": "code",
   "execution_count": 25,
   "id": "a6ed2f94-7d00-4972-9850-075c669422c3",
   "metadata": {},
   "outputs": [
    {
     "data": {
      "text/plain": [
       "(68, 20)"
      ]
     },
     "execution_count": 25,
     "metadata": {},
     "output_type": "execute_result"
    }
   ],
   "source": [
    "estado_pqr = usuario_solicita[usuario_solicita['ESTADO_DE_PQRS'] == 'PRECERRADO']\n",
    "estado_pqr.shape"
   ]
  },
  {
   "cell_type": "markdown",
   "id": "607ec692-9ff7-4fc1-9f41-539ef3bf0562",
   "metadata": {},
   "source": [
    "#### 5. Exportación del dato filtrado\n",
    "##### Aquí se empaqueta el dataframe filtrado y se ejecuta script que los descarga en formato TXT/CSV con el nombre \"pendientes.txt\""
   ]
  },
  {
   "cell_type": "code",
   "execution_count": 26,
   "id": "3dfceb0a-53dd-433a-ae44-8986918e5acd",
   "metadata": {},
   "outputs": [
    {
     "name": "stdout",
     "output_type": "stream",
     "text": [
      "\n",
      "Se ha actualizado el documento\n",
      " pendientes.txt\n",
      "Ya puedes verificarlo.\n"
     ]
    }
   ],
   "source": [
    "estado_pqr.to_csv('pendientes.txt')\n",
    "print(\"\\nSe ha actualizado el documento\\n pendientes.txt\\nYa puedes verificarlo.\")"
   ]
  },
  {
   "cell_type": "markdown",
   "id": "f914251b-71a4-48c4-82cd-f0b5f738979d",
   "metadata": {},
   "source": [
    "#### 6. Variable imprimibles\n",
    "##### Son los datos que se deben imprimir en script de conversión\n"
   ]
  },
  {
   "cell_type": "code",
   "execution_count": 27,
   "id": "552d5e7e-5a6d-412e-95bf-31cbe347932d",
   "metadata": {},
   "outputs": [],
   "source": [
    "pendientes = pd.read_csv('pendientes.txt', header=0)\n",
    "pendientes.set_index('0', inplace=True)"
   ]
  },
  {
   "cell_type": "code",
   "execution_count": 28,
   "id": "6975dd46-18b3-4899-9d82-5bda48296c2c",
   "metadata": {},
   "outputs": [],
   "source": [
    "imprimibles = pendientes[['NUMERO_PQR']]"
   ]
  },
  {
   "cell_type": "code",
   "execution_count": 29,
   "id": "69a22566-52fe-4c1f-ba12-bd795a572970",
   "metadata": {},
   "outputs": [
    {
     "data": {
      "text/html": [
       "<div>\n",
       "<style scoped>\n",
       "    .dataframe tbody tr th:only-of-type {\n",
       "        vertical-align: middle;\n",
       "    }\n",
       "\n",
       "    .dataframe tbody tr th {\n",
       "        vertical-align: top;\n",
       "    }\n",
       "\n",
       "    .dataframe thead th {\n",
       "        text-align: right;\n",
       "    }\n",
       "</style>\n",
       "<table border=\"1\" class=\"dataframe\">\n",
       "  <thead>\n",
       "    <tr style=\"text-align: right;\">\n",
       "      <th></th>\n",
       "      <th>NUMERO_PQR</th>\n",
       "    </tr>\n",
       "    <tr>\n",
       "      <th>0</th>\n",
       "      <th></th>\n",
       "    </tr>\n",
       "  </thead>\n",
       "  <tbody>\n",
       "    <tr>\n",
       "      <th>302</th>\n",
       "      <td>2360109</td>\n",
       "    </tr>\n",
       "    <tr>\n",
       "      <th>312</th>\n",
       "      <td>2357080</td>\n",
       "    </tr>\n",
       "    <tr>\n",
       "      <th>314</th>\n",
       "      <td>2364815</td>\n",
       "    </tr>\n",
       "    <tr>\n",
       "      <th>319</th>\n",
       "      <td>2360575</td>\n",
       "    </tr>\n",
       "    <tr>\n",
       "      <th>322</th>\n",
       "      <td>2358351</td>\n",
       "    </tr>\n",
       "    <tr>\n",
       "      <th>...</th>\n",
       "      <td>...</td>\n",
       "    </tr>\n",
       "    <tr>\n",
       "      <th>518</th>\n",
       "      <td>2480330</td>\n",
       "    </tr>\n",
       "    <tr>\n",
       "      <th>519</th>\n",
       "      <td>2480330</td>\n",
       "    </tr>\n",
       "    <tr>\n",
       "      <th>520</th>\n",
       "      <td>2482069</td>\n",
       "    </tr>\n",
       "    <tr>\n",
       "      <th>521</th>\n",
       "      <td>2471564</td>\n",
       "    </tr>\n",
       "    <tr>\n",
       "      <th>524</th>\n",
       "      <td>2484026</td>\n",
       "    </tr>\n",
       "  </tbody>\n",
       "</table>\n",
       "<p>68 rows × 1 columns</p>\n",
       "</div>"
      ],
      "text/plain": [
       "     NUMERO_PQR\n",
       "0              \n",
       "302     2360109\n",
       "312     2357080\n",
       "314     2364815\n",
       "319     2360575\n",
       "322     2358351\n",
       "..          ...\n",
       "518     2480330\n",
       "519     2480330\n",
       "520     2482069\n",
       "521     2471564\n",
       "524     2484026\n",
       "\n",
       "[68 rows x 1 columns]"
      ]
     },
     "execution_count": 29,
     "metadata": {},
     "output_type": "execute_result"
    }
   ],
   "source": [
    "imprimibles"
   ]
  }
 ],
 "metadata": {
  "kernelspec": {
   "display_name": "Python 3 (ipykernel)",
   "language": "python",
   "name": "python3"
  },
  "language_info": {
   "codemirror_mode": {
    "name": "ipython",
    "version": 3
   },
   "file_extension": ".py",
   "mimetype": "text/x-python",
   "name": "python",
   "nbconvert_exporter": "python",
   "pygments_lexer": "ipython3",
   "version": "3.11.3"
  }
 },
 "nbformat": 4,
 "nbformat_minor": 5
}
