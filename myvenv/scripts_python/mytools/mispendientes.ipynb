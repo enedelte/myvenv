{
 "cells": [
  {
   "cell_type": "markdown",
   "id": "24320404-456e-478a-8cdb-cea966e7504f",
   "metadata": {},
   "source": [
    "## Reporte de casos pendientes por usuario"
   ]
  },
  {
   "cell_type": "code",
   "execution_count": 37,
   "id": "ea6bbeb5-7e36-4e1e-b8f7-3ec25c9a9249",
   "metadata": {},
   "outputs": [
    {
     "name": "stderr",
     "output_type": "stream",
     "text": [
      "C:\\Users\\dapache\\python_scripts\\myvenv\\Lib\\site-packages\\openpyxl\\worksheet\\_reader.py:329: UserWarning: Data Validation extension is not supported and will be removed\n",
      "  warn(msg)\n",
      "C:\\Users\\dapache\\python_scripts\\myvenv\\Lib\\site-packages\\openpyxl\\worksheet\\_reader.py:329: UserWarning: Web Extension extension is not supported and will be removed\n",
      "  warn(msg)\n"
     ]
    }
   ],
   "source": [
    "import os\n",
    "import pandas as pd\n",
    "import openpyxl\n",
    "import warnings\n",
    "import shutil\n",
    "\n",
    "certificados_1427_PQRS = (r\"C:\\Users\\dapache\\OneDrive - NUEVA EPS\\CERTIFICADOS DECRECTO_1427_PQRS\\certificados_1427_PQRS.xlsx\")\n",
    "df = pd.read_excel(certificados_1427_PQRS)"
   ]
  },
  {
   "cell_type": "code",
   "execution_count": 43,
   "id": "a46ad6f6-3979-4606-b1fe-b8878678ebf1",
   "metadata": {},
   "outputs": [
    {
     "name": "stdout",
     "output_type": "stream",
     "text": [
      "Se ha actualizado el documento\n",
      "Ya puedes verificarlo.\n",
      "Archivo movido exitosamente.\n"
     ]
    }
   ],
   "source": [
    "#filtro de casos pendientes\n",
    "pendientes_usuario = df[(df['USUARIO_QUE_SOLICITA'] == 'DAVID ALEJANDRO APACHE RODRIGUEZ') & (df['ESTADO_DE_PQRS'] == 'PRECERRADO')]\n",
    "pendientes_radicador = pendientes_usuario.to_csv(\"DAVID ALEJANDRO APACHE RODRIGUEZ.txt\", header=True, index=True, sep=' ', escapechar=\";\")\n",
    "                                \n",
    "print(\"Se ha actualizado el documento\\nYa puedes verificarlo.\")\n",
    "\n",
    "#mover el archivo generado a ruta en onedrive\n",
    "path_origin = (r\"C:\\Users\\dapache\\python_scripts\\myvenv\\scripts_python\\mytools\\DAVID ALEJANDRO APACHE RODRIGUEZ.txt\")\n",
    "path_destin = (r\"C:\\Users\\dapache\\OneDrive - NUEVA EPS\\GO_PQR\\Gestión Certificados 1427\\DAVID ALEJANDRO APACHE RODRIGUEZ.txt\")\n",
    "shutil.move(path_origin, path_destin)\n",
    "\n",
    "print(\"Archivo movido exitosamente.\")"
   ]
  },
  {
   "cell_type": "code",
   "execution_count": null,
   "id": "6bafab2c-40a3-4d8a-86ea-21b9c2b676e3",
   "metadata": {},
   "outputs": [],
   "source": []
  }
 ],
 "metadata": {
  "kernelspec": {
   "display_name": "Python 3 (ipykernel)",
   "language": "python",
   "name": "python3"
  },
  "language_info": {
   "codemirror_mode": {
    "name": "ipython",
    "version": 3
   },
   "file_extension": ".py",
   "mimetype": "text/x-python",
   "name": "python",
   "nbconvert_exporter": "python",
   "pygments_lexer": "ipython3",
   "version": "3.11.3"
  }
 },
 "nbformat": 4,
 "nbformat_minor": 5
}
