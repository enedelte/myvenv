{
  "nbformat": 4,
  "nbformat_minor": 0,
  "metadata": {
    "colab": {
      "provenance": []
    },
    "kernelspec": {
      "name": "python3",
      "display_name": "Python 3"
    },
    "language_info": {
      "name": "python"
    }
  },
  "cells": [
    {
      "cell_type": "markdown",
      "source": [
        "**PYTHON**"
      ],
      "metadata": {
        "id": "7Q2HpoOCcR-e"
      }
    },
    {
      "cell_type": "code",
      "execution_count": null,
      "metadata": {
        "id": "VqFC_cNzW6gE"
      },
      "outputs": [],
      "source": [
        "libraries = [\"NumPy\", \"SciPy\", \"Pandas\", \"Matplotlib\", \"Seaborn\"]\n",
        "completion = [100, 100, 96, 0, 0]\n",
        "\n",
        "libraries.append(\"scikit-learn\")\n",
        "completion.append(0)\n",
        "\n",
        "notascurso = list(zip(libraries, completion))\n",
        "\n",
        "print(\"Porcentaje de cumplimiento de las lecciones:\")\n",
        "print(notascurso)\n",
        "print(\"\\n\")\n",
        "\n",
        "# Qué más podemos hacer?\n",
        "\n",
        "# notascurso.append((\"BeautifulSoup\", 0))\n",
        "# notascurso.append((\"Tensorflow\", 0))\n",
        "\n"
      ]
    },
    {
      "cell_type": "markdown",
      "source": [
        "**Analizando Datos con Python**"
      ],
      "metadata": {
        "id": "9j5f5B8jcpQF"
      }
    },
    {
      "cell_type": "code",
      "source": [
        "# instalar Pandas\n",
        "# pip install pandas\n",
        "\n",
        "# Cargar librería\n",
        "import pandas as pd\n",
        "\n",
        "# Cargar data\n",
        "df = pd.read_csv('page_visits.csv')\n",
        "\n",
        "# Mostrar data\n",
        "print(df.head())\n"
      ],
      "metadata": {
        "id": "Rjs6nGQPaDZ7"
      },
      "execution_count": null,
      "outputs": []
    },
    {
      "cell_type": "markdown",
      "source": [
        "**Visualización de datos con Matplotlib y Seaborn**"
      ],
      "metadata": {
        "id": "PAgZLQBEc3YO"
      }
    },
    {
      "cell_type": "code",
      "source": [
        "#pip install matplotlib\n",
        "\n",
        "from matplotlib import pyplot as plt\n",
        "import numpy as np\n",
        "import pandas as pd\n",
        "\n",
        "hour = range(24)\n",
        "\n",
        "viewers_hour = [30, 17, 34, 29, 19, 14, 3, 2, 4, 9, 5, 48, 62, 58, 40, 51, 69, 55, 76, 81, 102, 120, 71, 63]\n",
        "\n",
        "plt.title(\"Visitantes página\")\n",
        "\n",
        "plt.xlabel(\"Hour\")\n",
        "plt.ylabel(\"Viewers\")\n",
        "\n",
        "plt.plot(hour, viewers_hour)\n",
        "\n",
        "plt.legend(['2015-01-01'])\n",
        "\n",
        "ax = plt.subplot()\n",
        "\n",
        "ax.set_facecolor('seashell')\n",
        "\n",
        "ax.set_xticks(hour)\n",
        "ax.set_yticks([0, 20, 40, 60, 80, 100, 120])\n",
        "\n",
        "y_upper = [i + (i*0.15) for i in viewers_hour]\n",
        "y_lower = [i - (i*0.15) for i in viewers_hour]\n",
        "\n",
        "plt.fill_between(hour, y_lower, y_upper, alpha=0.2)\n",
        "\n",
        "plt.show()\n"
      ],
      "metadata": {
        "id": "sAg_y8sEb3yn"
      },
      "execution_count": null,
      "outputs": []
    },
    {
      "cell_type": "markdown",
      "source": [
        "**Probabilidad**"
      ],
      "metadata": {
        "id": "r-TjREiygokC"
      }
    },
    {
      "cell_type": "code",
      "source": [
        "from simulate import simulate\n",
        "\n",
        "personas_en_la_habitacion = 5       #Cambiar este número (mantener por debajo de 100 para evitar errores en el código)\n",
        "\n",
        "simulate(personas_en_la_habitacion)\n"
      ],
      "metadata": {
        "id": "d9q2NRA8gtrh"
      },
      "execution_count": null,
      "outputs": []
    },
    {
      "cell_type": "markdown",
      "source": [
        "**Ejecicio machine Learning**"
      ],
      "metadata": {
        "id": "RsPnlMqspPk9"
      }
    },
    {
      "cell_type": "code",
      "source": [
        "# ¡Bienvenido a un ejemplo de código de machine learning!\n",
        "\n",
        "# Importar bibliotecas para crear y mostrar figuras.\n",
        "\n",
        "import matplotlib.pyplot as plt\n",
        "import pandas as pd\n",
        "\n",
        "# Import a package for generating a model of a dataset\n",
        "\n",
        "from sklearn.cluster import KMeans\n",
        "\n"
      ],
      "metadata": {
        "id": "d6GQv7UIpTjG"
      },
      "execution_count": null,
      "outputs": []
    }
  ]
}