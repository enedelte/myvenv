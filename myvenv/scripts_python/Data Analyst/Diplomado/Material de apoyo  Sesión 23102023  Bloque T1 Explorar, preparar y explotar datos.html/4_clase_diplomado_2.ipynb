{
  "nbformat": 4,
  "nbformat_minor": 0,
  "metadata": {
    "colab": {
      "provenance": [],
      "toc_visible": true
    },
    "kernelspec": {
      "name": "python3",
      "display_name": "Python 3"
    },
    "language_info": {
      "name": "python"
    }
  },
  "cells": [
    {
      "cell_type": "markdown",
      "source": [
        "# **Exploración y entendimiento de datos**"
      ],
      "metadata": {
        "id": "c5pRFrQnsN-l"
      }
    },
    {
      "cell_type": "markdown",
      "source": [
        "# Funciones Lambda\n",
        "\n",
        "Definir una función de Python en una línea\n",
        "\n",
        "Una función es un objeto que puede aceptar algún tipo de entrada, posiblemente modificarla y devolver algún tipo de salida. En Python, una función lambda es una abreviatura de una línea para función. Una función lambda simple podría verse así:\n",
        "\n",
        "`add_two = lambda my_input: my_input + 2`\n",
        "\n",
        "En Python, puedes verificar si una cadena contiene una subcadena usando la palabra clave in. Por ejemplo, la línea:\n",
        "\n",
        "return \"I\" in \"Team\"\n",
        "\n",
        "Devolvería Falso, ya que no hay \"I\" en \"Team\". Sin embargo:\n",
        "\n",
        "Devolver \"I\" en \"I love Python\" devuelve Verdadero, porque hay una \"I\" en \"I love Python\".\n",
        "\n",
        "Sintaxis:\n",
        "\n",
        "```\n",
        "lambda my_input: <my_input modified somehow>\n",
        "```\n",
        "\n",
        "\n",
        "Por ejemplo, una lambda que devolvería my_input más 1 se vería así:\n",
        "plus_one = lambda my_input: my_input+1"
      ],
      "metadata": {
        "id": "mYQJyBMvz0wo"
      }
    },
    {
      "cell_type": "code",
      "source": [
        "plus_one = lambda my_input: my_input+1\n",
        "\n",
        "print(plus_one(10))\n"
      ],
      "metadata": {
        "id": "zjmOpmz8BIc-"
      },
      "execution_count": null,
      "outputs": []
    },
    {
      "cell_type": "markdown",
      "source": [
        "## Ejemplo\n",
        "1. Crear una función lambda llamada contains_a que tome una palabra de entrada y devuelva True si la entrada contiene la letra 'a'. De lo contrario, devuelve Falso. usando \"in\"\n",
        "\n",
        "\n",
        "\n"
      ],
      "metadata": {
        "id": "ehNtAGgp0mHt"
      }
    },
    {
      "cell_type": "code",
      "source": [
        "#contains_a =\n",
        "#print(contains_a(\"zapato\"))\n",
        "#print(contains_a(\"esfero\"))\n",
        "#print(contains_a(\"elefante\"))\n"
      ],
      "metadata": {
        "id": "dnn7Q4VE0vXM"
      },
      "execution_count": null,
      "outputs": []
    },
    {
      "cell_type": "markdown",
      "source": [
        "## Cadenas largas\n",
        "Para encontrar la cantidad de caracteres en una cadena, usamos len. Este bloque de código:\n",
        "\n",
        "Crear una función lambda llamada long_string que tome una cadena de entrada y devuelva True si la cadena tiene más de 12 caracteres. De lo contrario, devuelve Falso."
      ],
      "metadata": {
        "id": "8LVk6JBU2muV"
      }
    },
    {
      "cell_type": "code",
      "source": [
        "long_string = lambda str: len(str) > 12\n",
        "\n",
        "print(long_string(\"Nueva EPS\"))\n",
        "print(long_string(\"universidad Javeriana\"))\n"
      ],
      "metadata": {
        "id": "PJyq1uFU5zj7"
      },
      "execution_count": null,
      "outputs": []
    },
    {
      "cell_type": "markdown",
      "source": [
        "## termina con A\n",
        "Puede obtener un carácter de una cadena string_name  usando la sintaxis string_name[index], donde index es el lugar del carácter que desea obtener, comenzando en 0. El último carácter de la cadena es string_name[-1]."
      ],
      "metadata": {
        "id": "28_U-qI19rhE"
      }
    },
    {
      "cell_type": "code",
      "source": [
        "ends_in_a = lambda str: str[-3] == \"a\"\n",
        "\n",
        "print(ends_in_a(\"data\"))\n",
        "print(ends_in_a(\"aardvark\"))\n"
      ],
      "metadata": {
        "id": "8y6foGRn97zS"
      },
      "execution_count": null,
      "outputs": []
    },
    {
      "cell_type": "code",
      "source": [
        "even_or_odd = lambda x: \"even\" if x % 2 == 0 else \"odd\"\n",
        "\n",
        "print(even_or_odd(10))\n",
        "print(even_or_odd(5))\n"
      ],
      "metadata": {
        "id": "mOGUy-1RJJss"
      },
      "execution_count": null,
      "outputs": []
    },
    {
      "cell_type": "code",
      "source": [
        "multiple_of_three = lambda x: x % 3 == 0\n",
        "print(multiple_of_three(17))\n",
        "print(multiple_of_three(651))\n"
      ],
      "metadata": {
        "id": "iWG5_R3AJMhp"
      },
      "execution_count": null,
      "outputs": []
    },
    {
      "cell_type": "code",
      "source": [
        "rate_movie = lambda x: \"Vamos a verla\" if x >= 8 else \"No vale la pena\"\n",
        "\n",
        "print(rate_movie(7.9))\n",
        "print(rate_movie(4))\n"
      ],
      "metadata": {
        "id": "y6DESu0KJQub"
      },
      "execution_count": null,
      "outputs": []
    },
    {
      "cell_type": "markdown",
      "source": [
        "# Cargar y guardar archivos CSV\n",
        "Cuando tienes datos en un CSV, puedes cargarlos en un DataFrame en Pandas usando .read_csv():\n",
        "\n",
        "```\n",
        "pd.read_csv('mi-archivo-csv.csv')\n",
        "```\n",
        "\n",
        "También podemos guardar datos en un CSV, usando .to_csv().\n",
        "\n",
        "\n",
        "```\n",
        "df.to_csv('nuevo-archivo-csv.csv')\n",
        "```\n",
        "\n"
      ],
      "metadata": {
        "id": "UzR8trDlAkhi"
      }
    },
    {
      "cell_type": "markdown",
      "source": [
        "# Inspeccionar un dataframe\n",
        "\n",
        "Si es un DataFrame pequeño, puede mostrarlo escribiendo print(df).\n",
        "\n",
        "El método .head() proporciona las primeras 5 filas de un DataFrame. Si desea ver más filas, puede pasar el argumento posicional n. Por ejemplo, df.head(10) mostraría las primeras 10 filas.\n",
        "\n",
        "El método df.info() proporciona algunas estadísticas para cada columna.\n",
        "\n"
      ],
      "metadata": {
        "id": "FcKmod_gAwGZ"
      }
    },
    {
      "cell_type": "code",
      "source": [
        "import pandas as pd\n",
        "#load the CSV below:\n",
        "df = pd.read_csv('imdb.csv')\n",
        "print(df.head())\n",
        "print('\\n')\n",
        "print(df.info())\n"
      ],
      "metadata": {
        "id": "MrKlmKK4BOGg"
      },
      "execution_count": null,
      "outputs": []
    },
    {
      "cell_type": "markdown",
      "source": [
        "# Seleccionar columnas\n",
        "\n",
        "Seleccionemos partes de esos conjuntos de datos que sean interesantes o importantes para nuestros análisis.\n",
        "\n",
        "Hay dos sintaxis posibles para seleccionar todos los valores de una columna:\n",
        "1. Seleccione la columna como si estuviera seleccionando un valor de un diccionario usando una clave. En nuestro ejemplo, escribiríamos clientes['edad'] para seleccionar las edades.\n",
        "2. Si el nombre de una columna sigue todas las reglas para un nombre de variable (no comienza con un número, no contiene espacios ni caracteres especiales, etc.), entonces puede seleccionarla usando la siguiente notación: df.MiSegundaColumna. En nuestro ejemplo, escribiríamos clientes.edad."
      ],
      "metadata": {
        "id": "pay4nttUB2_9"
      }
    },
    {
      "cell_type": "code",
      "execution_count": null,
      "metadata": {
        "colab": {
          "base_uri": "https://localhost:8080/"
        },
        "id": "JhQ4Gl0u_Rft",
        "outputId": "2ffa6616-a0f0-4681-d6f5-6ed0db878c71"
      },
      "outputs": [
        {
          "output_type": "stream",
          "name": "stdout",
          "text": [
            "<class 'pandas.core.series.Series'>\n",
            "<class 'pandas.core.frame.DataFrame'>\n"
          ]
        }
      ],
      "source": [
        "import pandas as pd\n",
        "\n",
        "df = pd.DataFrame([\n",
        "  ['January', 100, 100, 23, 100],\n",
        "  ['February', 51, 45, 145, 45],\n",
        "  ['March', 81, 96, 65, 96],\n",
        "  ['April', 80, 80, 54, 180],\n",
        "  ['May', 51, 54, 54, 154],\n",
        "  ['June', 112, 109, 79, 129]],\n",
        "  columns=['month', 'clinic_east',\n",
        "           'clinic_north', 'clinic_south',\n",
        "           'clinic_west']\n",
        ")\n",
        "\n",
        "clinic_north = df.clinic_north\n",
        "\n",
        "print(type(clinic_north))\n",
        "\n",
        "print(type(df))\n"
      ]
    },
    {
      "cell_type": "markdown",
      "source": [
        "# Seleccionar varias columnas\n",
        "\n",
        "Cuando tenga un DataFrame más grande, es posible que desee seleccionar solo unas pocas columnas.\n",
        "\n",
        "Para seleccionar dos o más columnas de un DataFrame, usamos una lista de nombres de columnas.\n",
        "\n",
        "\n",
        "```\n",
        "new_df = pedidos[['apellido', 'correo electrónico']]\n",
        "```\n",
        "\n",
        "Nota: asegúrese de tener un conjunto doble de corchetes ([[]]), o este comando no funcionará."
      ],
      "metadata": {
        "id": "jKVGabGKCUpb"
      }
    },
    {
      "cell_type": "markdown",
      "source": [
        "## Instrucciones\n",
        "1. Ahora desea comparar las visitas a las clínicas del Norte y del Sur.\n",
        "Cree una variable llamada clinic_north_south que contenga SÓLO los datos de las columnas clinic_north  y clinic_south.\n",
        "2. Cuando seleccionamos varias columnas, ¿obtenemos una Serie o un Marco de datos?\n",
        "\n",
        "Después de haber creado la variable, para ver qué tipo de datos ha creado, ingrese el comando:\n",
        "\n",
        "print(type(clinic_north_south))\n"
      ],
      "metadata": {
        "id": "sbntxYL-DnBn"
      }
    },
    {
      "cell_type": "code",
      "source": [
        "import pandas as pd\n",
        "\n",
        "df = pd.DataFrame([\n",
        "  ['January', 100, 100, 23, 100],\n",
        "  ['February', 51, 45, 145, 45],\n",
        "  ['March', 81, 96, 65, 96],\n",
        "  ['April', 80, 80, 54, 180],\n",
        "  ['May', 51, 54, 54, 154],\n",
        "  ['June', 112, 109, 79, 129]],\n",
        "  columns=['month', 'clinic_east',\n",
        "           'clinic_north', 'clinic_south',\n",
        "           'clinic_west']\n",
        ")\n",
        "\n"
      ],
      "metadata": {
        "id": "i2kUS0KGEBO1"
      },
      "execution_count": null,
      "outputs": []
    },
    {
      "cell_type": "markdown",
      "source": [
        "# Seleccionar filas\n",
        "\n",
        "Los DataFrames están indexados a cero, lo que significa que comenzamos con la fila 0 y contamos desde allí.\n",
        "\n",
        "Para seleccionar una fila usamos el siguiente comando:\n",
        "\n",
        "df.iloc[2]"
      ],
      "metadata": {
        "id": "fbPTZZrBEYlk"
      }
    },
    {
      "cell_type": "markdown",
      "source": [
        "## Instrucciones\n",
        "1. Se está preparando para incorporar personal a la clínica para marzo de este año. Quiere saber cuántas visitas se realizaron en marzo del año pasado para ayudarle a prepararse.\n",
        "Escriba un comando que produzca una serie compuesta por los datos de marzo de df de los cuatro sitios clínicos y guárdela en la variable march."
      ],
      "metadata": {
        "id": "3jKOXPDCEvkS"
      }
    },
    {
      "cell_type": "code",
      "source": [
        "import pandas as pd\n",
        "\n",
        "df = pd.DataFrame([\n",
        "  ['January', 100, 100, 23, 100],\n",
        "  ['February', 51, 45, 145, 45],\n",
        "  ['March', 81, 96, 65, 96],\n",
        "  ['April', 80, 80, 54, 180],\n",
        "  ['May', 51, 54, 54, 154],\n",
        "  ['June', 112, 109, 79, 129]],\n",
        "  columns=['month', 'clinic_east',\n",
        "           'clinic_north', 'clinic_south',\n",
        "           'clinic_west'])\n",
        "\n",
        "\n"
      ],
      "metadata": {
        "id": "OLmPEMLqEvCS"
      },
      "execution_count": null,
      "outputs": []
    },
    {
      "cell_type": "markdown",
      "source": [
        "# Seleccionar varias filas\n",
        "También puede seleccionar varias filas de un DataFrame.\n",
        "\n",
        "A continuación se muestran algunas formas diferentes de seleccionar varias filas:\n",
        "\n",
        "* orders.iloc[3:7] seleccionaría todas las filas comenzando en la 3.ª fila y hasta la 7.ª fila, pero sin incluirla (es decir, la 3.ª fila, la 4.ª fila, la 5.ª fila y la 6.ª fila)\n",
        "\n",
        "* orders.iloc[:4] seleccionaría todas las filas hasta la cuarta fila, pero sin incluirla (es decir, las filas 0, 1, 2 y 3)\n",
        "\n",
        "*\torders.iloc[-3:] seleccionaría las filas comenzando desde la tercera hasta la última fila y hasta la fila final"
      ],
      "metadata": {
        "id": "wjwAx1xwFRAw"
      }
    },
    {
      "cell_type": "markdown",
      "source": [
        "## Instrucciones\n",
        "1. Uno de sus médicos cree que habrá más visitas a la clínica a finales de la primavera.\n",
        "Escriba un comando que produzca un DataFrame compuesto por los datos de abril, mayo y junio de df para los cuatro sitios (filas 3 a 6) y guárdelo en april_may_june.\n",
        "2. Inspeccione april_may_june usando print."
      ],
      "metadata": {
        "id": "SBxZ0WIQF1eu"
      }
    },
    {
      "cell_type": "code",
      "source": [
        "import pandas as pd\n",
        "\n",
        "df = pd.DataFrame([\n",
        "  ['January', 100, 100, 23, 100],\n",
        "  ['February', 51, 45, 145, 45],\n",
        "  ['March', 81, 96, 65, 96],\n",
        "  ['April', 80, 80, 54, 180],\n",
        "  ['May', 51, 54, 54, 154],\n",
        "  ['June', 112, 109, 79, 129]],\n",
        "  columns=['month', 'clinic_east',\n",
        "           'clinic_north', 'clinic_south',\n",
        "           'clinic_west']\n",
        ")\n",
        "\n",
        "\n"
      ],
      "metadata": {
        "id": "fzk6KdO1GBe9"
      },
      "execution_count": null,
      "outputs": []
    },
    {
      "cell_type": "markdown",
      "source": [
        "# Seleccionar filas con lógica\n",
        "\n",
        "Puede seleccionar un subconjunto de un DataFrame mediante declaraciones lógicas:\n",
        "\n",
        "\n",
        "```\n",
        "df[df.MyColumnName == desired_column_value]\n",
        "```\n",
        "\n",
        "Supongamos que queremos seleccionar todas las filas donde la edad del cliente es 30. Usaríamos:\n",
        "\n",
        "\n",
        "\n",
        "```\n",
        "df[df.edad == 30]\n",
        "```\n",
        "\n",
        "\n",
        "\n",
        "Podemos utilizar otras declaraciones lógicas, como por ejemplo:\n",
        "\n",
        "* Mayor que, >: aquí seleccionamos todas las filas donde la edad del cliente es mayor que 30:\n",
        "df[df.edad > 30]\n",
        "* Menos que, <: aquí seleccionamos todas las filas donde la edad del cliente es inferior a 30 años:\n",
        "df[df.edad < 30]\n",
        "* No igual, !=: este fragmento selecciona todas las filas donde el nombre del cliente no es Clara Oswald:\n",
        "df[df.nombre != 'Clara Oswald']"
      ],
      "metadata": {
        "id": "d_dk0CqBNwCZ"
      }
    },
    {
      "cell_type": "markdown",
      "source": [
        "## Instrucciones\n",
        "1. Vas a formar parte del personal de la clínica durante enero de este año. Quiere saber cuántas visitas se realizaron en enero del año pasado para ayudarle a prepararse.\n",
        "Cree la variable january usando una declaración lógica que seleccione la fila de df donde la columna 'month' es 'january'.\n",
        "2. Inspeccione january usando la impresión."
      ],
      "metadata": {
        "id": "BxPpqmxNOBeQ"
      }
    },
    {
      "cell_type": "code",
      "source": [
        "import pandas as pd\n",
        "\n",
        "df = pd.DataFrame([\n",
        "  ['January', 100, 100, 23, 100],\n",
        "  ['February', 51, 45, 145, 45],\n",
        "  ['March', 81, 96, 65, 96],\n",
        "  ['April', 80, 80, 54, 180],\n",
        "  ['May', 51, 54, 54, 154],\n",
        "  ['June', 112, 109, 79, 129]],\n",
        "  columns=['month', 'clinic_east',\n",
        "           'clinic_north', 'clinic_south',\n",
        "           'clinic_west'])\n",
        "\n"
      ],
      "metadata": {
        "id": "EC7RLtuGOP-f"
      },
      "execution_count": null,
      "outputs": []
    },
    {
      "cell_type": "markdown",
      "source": [
        "También puede combinar varias declaraciones lógicas, siempre que cada declaración esté entre paréntesis.\n",
        "\n",
        "Por ejemplo, supongamos que queremos seleccionar todas las filas donde la edad del cliente es menor de 30 años o el nombre del cliente es \"Martha Jones\":\n",
        "\n",
        "Podríamos utilizar el siguiente código:\n",
        "\n",
        "\n",
        "```\n",
        "\n",
        "df[(df.edad < 30) |\n",
        "    (df.nombre == 'Martha Jones')]\n",
        "```\n",
        "\n",
        "\n",
        "\n",
        "En Python, | significa \"o\" y & significa \"y\"."
      ],
      "metadata": {
        "id": "SriuQG3mOUVH"
      }
    },
    {
      "cell_type": "markdown",
      "source": [
        "## Instrucciones\n",
        "1. Quiere ver cómo cambió el número de visitas a la clínica entre marzo y abril.\n",
        "Crea la variable march_april, que contiene los datos de marzo y abril. Haga esto usando dos declaraciones lógicas combinadas usando |, que significa \"o\".\n",
        "2. Inspeccione march_april usando print."
      ],
      "metadata": {
        "id": "K2UBYEHAOizW"
      }
    },
    {
      "cell_type": "code",
      "source": [
        "import pandas as pd\n",
        "\n",
        "df = pd.DataFrame([\n",
        "  ['January', 100, 100, 23, 100],\n",
        "  ['February', 51, 45, 145, 45],\n",
        "  ['March', 81, 96, 65, 96],\n",
        "  ['April', 80, 80, 54, 180],\n",
        "  ['May', 51, 54, 54, 154],\n",
        "  ['June', 112, 109, 79, 129]],\n",
        "  columns=['month', 'clinic_east',\n",
        "           'clinic_north', 'clinic_south',\n",
        "           'clinic_west'])\n",
        "\n",
        "\n",
        "\n"
      ],
      "metadata": {
        "id": "BtTm2JGEOh_2"
      },
      "execution_count": null,
      "outputs": []
    },
    {
      "cell_type": "markdown",
      "source": [
        "Supongamos que queremos seleccionar las filas donde el nombre del cliente es \"Martha Jones\", \"Rose Tyler\" o \"Amy Pond\".\n",
        "\n",
        "Podríamos usar el comando isin para verificar que df.name sea uno de una lista de valores:\n",
        "\n",
        "\n",
        "\n",
        "```\n",
        "df[df.nombre.isin(['Martha Jones',\n",
        "      'Rose Tyler',\n",
        "      'Amy estanque'])]\n",
        "```\n",
        "\n",
        "\n",
        "\n"
      ],
      "metadata": {
        "id": "ZM7yiJtGOuTV"
      }
    },
    {
      "cell_type": "markdown",
      "source": [
        "## Instrucciones\n",
        "1. Otro médico cree que tienes muchas visitas a la clínica a finales del invierno.\n",
        "Cree la variable january_february_march, que contiene los datos de enero, febrero y marzo. Haga esto usando una única declaración lógica con el comando isin.\n",
        "2. Inspeccione january_february_march usando print."
      ],
      "metadata": {
        "id": "h79G8ILKO50d"
      }
    },
    {
      "cell_type": "code",
      "source": [
        "import pandas as pd\n",
        "\n",
        "df = pd.DataFrame([\n",
        "  ['January', 100, 100, 23, 100],\n",
        "  ['February', 51, 45, 145, 45],\n",
        "  ['March', 81, 96, 65, 96],\n",
        "  ['April', 80, 80, 54, 180],\n",
        "  ['May', 51, 54, 54, 154],\n",
        "  ['June', 112, 109, 79, 129]],\n",
        "  columns=['month', 'clinic_east',\n",
        "           'clinic_north', 'clinic_south',\n",
        "           'clinic_west'])\n",
        "\n"
      ],
      "metadata": {
        "id": "rM9cPbltPFo0"
      },
      "execution_count": null,
      "outputs": []
    },
    {
      "cell_type": "markdown",
      "source": [
        "# Establecer índices\n",
        "\n",
        "Cuando seleccionamos un subconjunto de un DataFrame usando lógica, terminamos con índices no consecutivos. Esto es poco elegante y dificulta el uso de .iloc().\n",
        "Podemos solucionar este problema utilizando el método .reset_index().\n",
        "\n",
        "Si usamos el comando df.reset_index(), obtenemos un nuevo DataFrame con un nuevo conjunto de índices\n",
        "\n",
        "El uso de .reset_index() devolverá un nuevo DataFrame, pero normalmente solo queremos modificar nuestro DataFrame existente. Si usamos la palabra clave inplace=True podemos simplemente modificar nuestro DataFrame existent"
      ],
      "metadata": {
        "id": "TboNAOEOPKw8"
      }
    },
    {
      "cell_type": "code",
      "source": [
        "import pandas as pd\n",
        "\n",
        "df = pd.DataFrame([\n",
        "  ['January', 100, 100, 23, 100],\n",
        "  ['February', 51, 45, 145, 45],\n",
        "  ['March', 81, 96, 65, 96],\n",
        "  ['April', 80, 80, 54, 180],\n",
        "  ['May', 51, 54, 54, 154],\n",
        "  ['June', 112, 109, 79, 129]],\n",
        "  columns=['month', 'clinic_east',\n",
        "           'clinic_north', 'clinic_south',\n",
        "           'clinic_west']\n",
        ")\n",
        "\n",
        "df2 = df.loc[[2,4]]\n",
        "\n",
        "print(df2)\n",
        "print('\\n')\n",
        "\n",
        "df3 = df2.reset_index()\n",
        "print(df3)\n",
        "print('\\n')\n",
        "df2.reset_index(inplace=True, drop=True)\n",
        "\n",
        "print(df2)"
      ],
      "metadata": {
        "id": "DEA7ZS87dOxx"
      },
      "execution_count": null,
      "outputs": []
    },
    {
      "cell_type": "markdown",
      "source": [
        "## Instrucciones\n",
        "1. Tenga en cuenta que df2 es un subconjunto de filas de df.\n",
        "use print(df2)\n",
        "Tenga en cuenta que los índices de df2 no son consecutivos.\n",
        "2. Cree un nuevo DataFrame llamado df3 restableciendo los índices en df2 (no use inplace o drop). ¿Cambió df2 después de ejecutar este comando?\n",
        "3. Restablezca los índices de df2 utilizando la palabra clave inplace=True y drop=True. ¿Cambiaron los índices de df2? ¿En qué se diferencia df2 de df3?"
      ],
      "metadata": {
        "id": "pb3lBnuUPiLj"
      }
    },
    {
      "cell_type": "code",
      "source": [
        "import pandas as pd\n",
        "\n",
        "df = pd.DataFrame([\n",
        "  ['January', 100, 100, 23, 100],\n",
        "  ['February', 51, 45, 145, 45],\n",
        "  ['March', 81, 96, 65, 96],\n",
        "  ['April', 80, 80, 54, 180],\n",
        "  ['May', 51, 54, 54, 154],\n",
        "  ['June', 112, 109, 79, 129]],\n",
        "  columns=['month', 'clinic_east',\n",
        "           'clinic_north', 'clinic_south',\n",
        "           'clinic_west']\n",
        ")\n",
        "\n",
        "\n"
      ],
      "metadata": {
        "id": "syPhdHqsPyTK"
      },
      "execution_count": null,
      "outputs": []
    },
    {
      "cell_type": "markdown",
      "source": [
        "# Modificar dataframes\n",
        "\n",
        "* Agregar columnas a un DataFrame\n",
        "* Usar funciones lambda para calcular cantidades complejas\n",
        "* Cambiar el nombre de las columnas"
      ],
      "metadata": {
        "id": "X74j8i0MsWxc"
      }
    },
    {
      "cell_type": "markdown",
      "source": [
        "## Modificar DataFrames en Pandas"
      ],
      "metadata": {
        "id": "_09ghdyss8eC"
      }
    },
    {
      "cell_type": "code",
      "source": [
        "import pandas as pd\n",
        "df = pd.read_csv('shoe_mess.csv')\n",
        "df.head(10)\n",
        "\n",
        "print(df.shoe_type.unique())"
      ],
      "metadata": {
        "id": "3NY3N0aQtTHZ"
      },
      "execution_count": null,
      "outputs": []
    },
    {
      "cell_type": "code",
      "source": [
        "import pandas as pd\n",
        "\n",
        "df['shoe_type'] = df.shoe_type.apply(str.lower)\n",
        "df.head(10)\n"
      ],
      "metadata": {
        "id": "RGeuQ9thvxsg"
      },
      "execution_count": null,
      "outputs": []
    },
    {
      "cell_type": "code",
      "source": [
        "df['in_stock'] = df.shoe_material.apply(lambda x: False if x == 'fabric' else True)\n",
        "\n",
        "df.head(10)\n"
      ],
      "metadata": {
        "id": "2wLfSrImJbJo"
      },
      "execution_count": null,
      "outputs": []
    },
    {
      "cell_type": "code",
      "source": [
        "df['description'] = df.apply(lambda row: \"{} {} bought {} {} {}\"\\\n",
        "    .format(row.first_name,\n",
        "            row.last_name,\n",
        "            row.shoe_color,\n",
        "            row.shoe_material,\n",
        "            row.shoe_type),\n",
        "    axis=1)\n",
        "df.head(10)\n"
      ],
      "metadata": {
        "id": "xQa0eu80Jw1_"
      },
      "execution_count": null,
      "outputs": []
    },
    {
      "cell_type": "markdown",
      "source": [
        "# Agregar una columna\n",
        "\n",
        "Una forma de agregar una nueva columna es proporcionando una lista de la misma longitud que el DataFrame existente.\n",
        "\n",
        "![1 mas columnas.png](data:image/png;base64,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)\n",
        "\n",
        "\n",
        "\n",
        "```\n",
        "df['Quantity'] = [100, 150, 50, 35]\n",
        "```\n",
        "![2 mas columnas.png](data:image/png;base64,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)\n"
      ],
      "metadata": {
        "id": "ioIVtMyXJ77f"
      }
    },
    {
      "cell_type": "code",
      "source": [
        "import pandas as pd\n",
        "\n",
        "df = pd.DataFrame([\n",
        "  [1, '3 inch screw', 0.5, 0.75],\n",
        "  [2, '2 inch nail', 0.10, 0.25],\n",
        "  [3, 'hammer', 3.00, 5.50],\n",
        "  [4, 'screwdriver', 2.50, 3.00]\n",
        "],\n",
        "  columns=['Product ID', 'Description', 'Cost to Manufacture', 'Price']\n",
        ")\n",
        "\n",
        "\n",
        "\n",
        "\n"
      ],
      "metadata": {
        "id": "9UgcmnPXK2ZL"
      },
      "execution_count": null,
      "outputs": []
    },
    {
      "cell_type": "markdown",
      "source": [
        "## Instrucciones\n",
        "\n",
        "1. adicionar una columna que indique si esos materiales se pueden vender en grandes cantidades\n",
        "2. añadirlo con 'Si', 'Si', 'No', 'No', la columan debe llamarse 'Sold in Bulk?'"
      ],
      "metadata": {
        "id": "AWVO4IOLfnDD"
      }
    },
    {
      "cell_type": "markdown",
      "source": [
        "También podemos agregar una nueva columna que sea la misma para todas las filas del DataFrame.\n",
        "\n",
        "\n",
        "\n",
        "```\n",
        "df['In Stock?'] = True\n",
        "```\n",
        "\n"
      ],
      "metadata": {
        "id": "_pBsW2ZyLQHh"
      }
    },
    {
      "cell_type": "code",
      "source": [
        "import pandas as pd\n",
        "\n",
        "df = pd.DataFrame([\n",
        "  [1, '3 inch screw', 0.5, 0.75],\n",
        "  [2, '2 inch nail', 0.10, 0.25],\n",
        "  [3, 'hammer', 3.00, 5.50],\n",
        "  [4, 'screwdriver', 2.50, 3.00]\n",
        "],\n",
        "  columns=['Product ID', 'Description', 'Cost to Manufacture', 'Price']\n",
        ")\n",
        "\n",
        "# Adicionar una columna que indique que todos los artículos tienen impuesto\n",
        "# nombrarla 'Is taxed?' con 'Si' a todos\n",
        "\n",
        "\n"
      ],
      "metadata": {
        "id": "_gQPrxr3LYjo"
      },
      "execution_count": null,
      "outputs": []
    },
    {
      "cell_type": "markdown",
      "source": [
        "Finalmente, puede agregar una nueva columna realizando una función en las columnas existentes\n",
        "\n",
        "\n",
        "\n",
        "```\n",
        "df['Sales Tax'] = df.Price * 0.075\n",
        "\n",
        "```\n",
        "\n",
        "\n",
        "\n"
      ],
      "metadata": {
        "id": "Mu4DcVTaLqUP"
      }
    },
    {
      "cell_type": "code",
      "source": [
        "import pandas as pd\n",
        "\n",
        "df = pd.DataFrame([\n",
        "  [1, '3 inch screw', 0.5, 0.75],\n",
        "  [2, '2 inch nail', 0.10, 0.25],\n",
        "  [3, 'hammer', 3.00, 5.50],\n",
        "  [4, 'screwdriver', 2.50, 3.00]\n",
        "],\n",
        "  columns=['Product ID', 'Description', 'Cost to Manufacture', 'Price']\n",
        ")\n",
        "\n",
        "# Adicionar una columna que calcule el margen o utilidad, es decir precio - costo de manufactura\n",
        "# llamar a la columna 'Margin'\n",
        "\n",
        "\n"
      ],
      "metadata": {
        "id": "HVhaIYi8Lyr_"
      },
      "execution_count": null,
      "outputs": []
    },
    {
      "cell_type": "markdown",
      "source": [
        "# Realizar operaciones con columnas\n",
        "\n",
        "A menudo, la columna que queremos agregar está relacionada con columnas existentes, pero requiere un cálculo más complejo que la multiplicación o la suma."
      ],
      "metadata": {
        "id": "-BCJg3V_NIlc"
      }
    },
    {
      "cell_type": "code",
      "source": [
        "import pandas as pd\n",
        "\n",
        "df = pd.DataFrame([\n",
        "  ['JOHN SMITH', 'john.smith@gmail.com'],\n",
        "  ['Jane Doe', 'jdoe@yahoo.com'],\n",
        "  ['joe schmo', 'joeschmo@hotmail.com']\n",
        "],\n",
        "columns=['Name', 'Email'])\n",
        "\n",
        "# Add columns here\n",
        "#df['Lowercase Name'] = df.Name.apply(str.lower)\n",
        "print(df)\n"
      ],
      "metadata": {
        "id": "0wE22v7INXtC"
      },
      "execution_count": null,
      "outputs": []
    },
    {
      "cell_type": "code",
      "source": [
        "mylambda = lambda x: (x * 2) + 3\n",
        "print(mylambda(5))\n"
      ],
      "metadata": {
        "colab": {
          "base_uri": "https://localhost:8080/"
        },
        "id": "-dnC9D9_NjlJ",
        "outputId": "fb2faf30-183a-4014-fe92-a4a6b9bc4b81"
      },
      "execution_count": null,
      "outputs": [
        {
          "output_type": "stream",
          "name": "stdout",
          "text": [
            "13\n"
          ]
        }
      ]
    },
    {
      "cell_type": "code",
      "source": [
        "stringlambda = lambda x: x.lower()\n",
        "print(stringlambda(\"Oh Hi Mark!\"))\n"
      ],
      "metadata": {
        "colab": {
          "base_uri": "https://localhost:8080/"
        },
        "id": "FXI5Fc7YNpQJ",
        "outputId": "5d2efb43-6eb7-4b26-9e94-6e64bf704adf"
      },
      "execution_count": null,
      "outputs": [
        {
          "output_type": "stream",
          "name": "stdout",
          "text": [
            "oh hi mark!\n"
          ]
        }
      ]
    },
    {
      "cell_type": "markdown",
      "source": [
        "## Instrucciones"
      ],
      "metadata": {
        "id": "DTtgLsAxeF5v"
      }
    },
    {
      "cell_type": "code",
      "source": [
        "#Cree una función lambda mylambda que devuelva la primera y la última letra de una cadena,\n",
        "#asumiendo que la cadena tiene al menos 2 caracteres de longitud.\n",
        "\n",
        "# cree acá su función y pruebela con la palabra 'Hello World'\n",
        "\n"
      ],
      "metadata": {
        "id": "WI5dOf3JNsNw"
      },
      "execution_count": null,
      "outputs": []
    },
    {
      "cell_type": "markdown",
      "source": [
        "# Función Lambda: declaraciones If\n",
        "Podemos hacer que nuestras lambdas sean más complejas usando una forma modificada de una declaración if.\n",
        "\n",
        "Supongamos que queremos pagar a los trabajadores tiempo y medio por las horas extras (cualquier trabajo superior a 40 horas semanales). La siguiente función convertirá la cantidad de horas en horas y media usando una declaración if:\n",
        "\n",
        "\n",
        "\n",
        "```\n",
        "def myfunction(x):\n",
        "    if x > 40:\n",
        "        return 40 + (x - 40) * 1.50\n",
        "    else:\n",
        "        return x\n",
        "\n",
        "```\n",
        "\n",
        "\n",
        "\n",
        "```\n",
        "myfunction = lambda x: 40 + (x - 40) * 1.50 if x > 40 else x\n",
        "```\n",
        "\n",
        "lambda x: [OUTCOME IF TRUE] if [CONDITIONAL] else [OUTCOME IF FALSE]\n"
      ],
      "metadata": {
        "id": "B1zq5Rm3N_6f"
      }
    },
    {
      "cell_type": "markdown",
      "source": [
        "## Instrucciones"
      ],
      "metadata": {
        "id": "6kJ_R-vYgCQx"
      }
    },
    {
      "cell_type": "code",
      "source": [
        "#Estás administrando la página web de un videojuego algo violento\n",
        "#quieres comprobar que la edad de cada usuario sea 13 o más cuando visita el sitio.\n",
        "#Escriba una función lambda que tome una edad ingresada y devuelva\n",
        "#¡Bienvenido a BattleCity! si el usuario tiene 13 años o más o usted debe tener 13 años o más si tiene menos de 13 años.\n",
        "#Su función lambda debe llamarse mylambda.\n",
        "\n",
        "# Escriba acá la función, imprima el resultado haciendo pruebas con valores de 12, 10 y 15\n",
        "\n"
      ],
      "metadata": {
        "id": "R1o9m2fhOUtu"
      },
      "execution_count": null,
      "outputs": []
    },
    {
      "cell_type": "markdown",
      "source": [
        "# Aplicar una Lambda a una columna\n",
        "En Pandas, solemos utilizar funciones lambda para realizar operaciones complejas en columnas. Por ejemplo, supongamos que queremos crear una columna que contenga el proveedor de correo electrónico para cada dirección de correo electrónico en la siguiente tabla:\n",
        "\n",
        "![3 tabla.png](data:image/png;base64,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)\n",
        "\n",
        "\n",
        "\n",
        "```\n",
        "df['Email Provider'] = df.Email.apply(\n",
        "    lambda x: x.split('@')[-1]\n",
        "    )\n",
        "\n",
        "```\n",
        "\n",
        "\n",
        "![4 tabla.png](data:image/png;base64,iVBORw0KGgoAAAANSUhEUgAAAbAAAABwCAIAAADws7J9AAAAAXNSR0IArs4c6QAAAARnQU1BAACxjwv8YQUAAAAJcEhZcwAADsMAAA7DAcdvqGQAABYCSURBVHhe7Z1NaFxHtsdbL+Ms5K0FzoTEWUiGCG2SvMFBCllHGmYwWXg5WTivO2AYCSbaGWYC2vkt1IHASLEfZJZaGDN5Uns7IRYOzx8b0QarF7JDxgZ5Ky2chV+dqlN1z7237mff/lL/fwhUt27dqurqqtP10X3+E5OTk7Xx4E9/+q9//ONbvgBjCfoAiCN7xX+Yf+PAa6+9xiEwrqAPgDiyV0xsbGxwEAAAxpuJV69ecfCk8+TJk3PnzvEFGEvQB0Ac2SvGaMkMAADpwCACAAADgwgAAAwMIgAAMCUNYqsx4VhodjhWRjdaHAeqRjZ+iAravNNcUBnRW2pC1eQ69gz2LfOUvrDQaLlh2yVBBQSuzBHrPiUN4uLGq1f76/M6vLsyY180Re/U5+s7r15tLJooUDncyjpMTU3s79T1dXVML1+tOsvxZbBvmSqdB+v8+r4peHd3c2kmYsMqZXGj8pfXF7paMs/V+T3eXAradmZ2bnaGw6BXzMxygJmuqANOL99RY/XO8jRfg8oYmrdsenHVmMfdre0qLGJCBWZmjXEYLbrbQ5xdvcPvqZgmgn7TatLH0eIGZuUjA96yIaXrQ5XFDbt0ltNEptNqLPC2xsTEAltMsdOhblNAPdfpNHV4oSHy4DgdXdmOx4mj01zb4iCRs3mz3hp9DXrDYN+yTuvayi4F6leXp+1eny3aZCNHninelaOgNPzcQrMVqYB9BY1rbX0d4BnO/tIHCu1mlGN/vU47EkQw9a/vyGgylXpHkRPw9ok1oeoyCO5zIr3N4RK5TQ8XX5qDgwMOnQBsuxnCbZOneZPeGnkVvnMiGGQfGOhbFi5c5aMyMhXgR6g8Croa6FFs9jm5ApyHzVwNdJNFvAIUFC+JMJc6Jzmc+VmVypY+AGSv6HqGqJHTxM+Cz75F2ly4Q6sC735C/aJbL8zPztgdiN32Pv0zn2L0GVarTdPjuyvXBv/xMXSoHmSbPkpq82a8NaB3DPItc2b4jsrI5M+ZUXl09LOxaEbe/Ozv7cizQ4/PbDbX9JyxtV1b5Swcaua7qf7plzH9+0uilknDOVY6XQ2SagwiNZbbTdzd0/8tnVazEZ8+Z9F5rHPZXNIz6hk9xd97zGsHIFH99BIH1TqLQ7ko99aArhnCt2zuPBs3HnlheOiZ0xh9FtN6XCOLmZOs4exKHzhVGURFME100MbAzFptdWM1csKWyfT5OfrnPtEInH0msLhsWqa1va2v81D+rQEVMLxvGY+8MNZgmWnf7ta1Rpo9jM9cRmc4d2EQ99t7Zi7vCKaJGppAq4+CufO1zvYWfSYUYfEi5bS78llT77/SJ6M4bhl79mM71p1mY6md94O2q7cGlGJI37L9diQznga299Vw62zT3fn1VbuUZYu4WTvvM2e8TNZr/E4o46ThHCt94LC5Loiwe9F90NBZi54x0v6tCc7TLTGPrNddPiJoP0f4IR3l8izPiTlUkR86IXTD5WverLdmfl3v4XO467YfFgbVBwb7loVLT7gXilY5cVaqED59sdATYtDLCqiEdtCq5/iGzdg3nP2l9xvZK+APEYwR6AMgDvwhAgCABxhEAABgYBABAICZODg44CAAAIw3OFQBYwT6AIiDQxUAAPAAgwgAAAwMIgAAMDCIAADAdGEQpXSNdA0rXUmGXD6GblhHlDKqEeQY8hQpSor5oAUAgMrQP+ArDf0WUf4MUf82UUSYHzpGf/kY/vlzNIp/HBn5jbSKjcQU5cT8lhmUBn0AxJG9osslc8hVpZruLW0qayj8+kwv31GWzCMuIIj7G9LiVekPAQBA5VS4h6id4s5firpJ0y6BCrq7NuJVEK4CAPSV6gyidoobt4fWSVpRd9fG3ezmEkwiAKBfVGcQM1w9sjCEhj2JW5ZIhyHO9PJ32iRi5QwA6A/VGcTQdmKceaFeHzkdcV4ioxgP3Fg5AwD6Q3UGUZ+NaP2ZKHruWFJGxq2c80tPAABAOSowiNbUaS2GuEXU0oRClaEovHJe0UpdAADQO0oaRP1VabWQVZO/QEtWr3DVAlds+nWaCzMru/WdNIWtqO7hfjuigxjRrgIAgB7B+3gF4S9Px7YDiZDxkt/adg8R5sFIlLzEF7NB5aAPgDiyV8AfIhgj0AdAHPhDBAAADzCIAADAwCACAAADgwgAAAwMIgAAMDCIAADAwCACAAADgwgAAAwMIgAAMIUNohN8ol8sd5pNcswVSEV5/XQFtxeaLaEqpXIIiUwJwgm9ilTwCAZAIWjs6nHjAiBKMYOoGnJpj3+d/F3ts4mZlTZFTy/f4Z8wb67Fvbl2trfIUQ39EvnO8qJKSr9Ypt84G48P/AtlG0lQVjOcUN/f0P4jqJhI1CA5/vqrH754yBeDZqgqE+L29R9OXX/BF2Dw0CD2u2QGBQ1i69ZmrX6VHdcY8zSrw4Z6nby5RsVTWtdW5tSNJC45ZzkBi6uXaoF/7RBxRareQMP4q6fD5qpb1qqzc7+YoXn46PXPf3B/pz6///VzvlM5w9l6Y8/iBk0kjItR4KeQQSSn2CGVk+nlZWnOLpJHxMgksXVrb331Il/EiGRgSYjuI598/vGvf327lE/bHlK2VjR/PPVN7Z/XP35p/369Mvnl1R8+2jnmJJUynK0HQCaFDOL08lU11SNFlASdE51A+ojtNNf2PLpTw094/kUGxU6sHt3mSMOLL6ITLrN6jceHUPnbDE0C9ZQKuKdUKVyozMEuP+nW7M2jibttlUAYNX+ht6/f+8ubs79ef/cTjtC89+7LK1M/3XzCLycyf+RSsqtUe/70I/uUW7PnWiZ7HuT81Z9o53zVOMG4bXum0aIYsQNPUxQZJnwb7plbh+KhIJ2IdMM+RwVGFb1pVwQx3w45KNyp60u9lWhvqLQuMkhMOUg/iRpfZNLUPlRubgr5wtvfvvebbw918Kj5t3/ZsI6/3G5RUMdfvtd8Rhetb12apHjBsycLnInDPBXkfOryvxoP6IJK/NsT0zAyN1FDRXKhQVmHjcuU7W++bTeCGPOIC8ReeEaVDhu2bkn19LeArszC9hGH6UFdnE1JuYmiM1smJyPoDzEYOzxEglGhx4secCKsA3I0cSSno6x0DrFBRLEc6fIJZaQfUxf6v0bf8VZgpJC9otihCqFPUEwrqLlibKqohQR42Uzbh54twmJE3jhu/v7x/MXWz1Pff37GXE0vnbtcO35sJyaXr3zw57MU+OSDqdovx64tkuIFh7diZyCXr5hJ3OTS706/+nD27+/RxfQbk7Wfj3w5RPEW2nlw+NOHUyrb29fbe5/+p1osP/rt8Y23Todm7c+P92qT5/WzVFzohaRX6czf7dJ4+v2pC/nqSTw8vFGburo0qS90Jhnt3FXLjDDkT54F2kjPd7e9rwYgWzR9KqnF3WRYJ1WDlGJoJscnKFlbh2qw1qzQB2026gxJa12cGny3Pr+7cm0/RwVGlkIGkb9lQ1CTUavED1HMspmi9fbhgPcCu+fZ0U8cMkzOvnXUfsYXJTn79o9r7+x9Q+u+Hu3iOTr/PrrwW2V3Xty6e/rS+8YA1S787gz1cWcHz07OWetz+/5h7c1JMwLy4Nb+r189CDdUFhGj3It2PgFoK8ibUPvtXSle6Yf1fs0K9tbFvFOIqJCHJhqpjzSzFNal4PDoUXCGuHVLmD+zpRiHJ4kLI7p9GOGN0xc4ZDhu/3x69g2+KI+yiXS4MTt3816vvy4zp2ZSwRzwxX/fPKKY2vHXGwe1T8/RzIvuHn15lezaH+4G07RsHj569+Ykn9WsvRNuqCwik7setfPIQ6Nsd2WGtueWaqniRIJWY2ZlTi2t8n85jWxdzJRpA7gpx7yipH7miFB0yaxWyW7XVOvpBRpTAfSpVtvdnbNz7QrxfpD1lLNnLr11+Ad7RNDZeXLjraklvbosCB0FxI4a1DyIQ2XwL8aj7D07Nq/ij3QQcXjxytT/0OSUTlp+NItWNTv7cJZPnyNnL7m5/b+ZM0TRAu9NXa4drvHs+MUXXz3tVNbOJ4xWQ9lB3i/Ka9/0KOGZXN4Rs3ixLr9C0mk2mh2e29hYGvBd6GeOBtzUudhfX1dvjZiC8/6e2JywO6oqkbkZ2riYX98Rl273VaaxkaHnPFlFthZzUPZQRcHHEXQiEezi0wa/2d0nHrTtrbR4zvNB2+RGGXIpoadCpasc+EghflpCOeijiaRC8548qJyDKvleSEqVzFML20/sWU3SoYpoAYWtvzsLytPOSdXIyYgeqkjm19ddTH09GBIirMZQ8NR8vS6GjUQl00PKjUNZVhAphh1HBsmSK6AfHRFkryipujeKdGEQRxpthlJtYsRoKhNmz39PGiNoEM0sxELWqfhcAKQie0XxU+bxwJ5FnAAm//zXj79/82DWHH0E3+YLUC9WHKQcP/6FQ2DgdJqfrWwFpxid7S13FAx6AWRIYzx/+vrVAw6DUeDl9Y85lMUIypB2mgszK+QMgFBr0ZzHKiA/slfAIIIxAn0AxAkZRLV+NiEAABhzMEMEYwT6AIgjewUOVQAAgIFBBAAABgYRAAAYGEQAAGByGETpnzLBMWwpZL6CUXcwCUBfyXT7CgqQwyCSpy/69SL9QLHKb4VaD2Lip0h0SQ65T9z7+/DR0GiMkIeF4ZSjAsVR1hCKUVWSc8ncJ8eP5NeSbO/mUpVT0f7RW3GlPqpEgREBilEVM3x7iIsbZBKlMMvo0DNxJe04q48qUQCMJ2UMolCdcatbs5ERF5oJ0uaf8+npqHNWKUoLZVEm514TkqayIko0lQt5fibrZmd50slCUny2SlRY1InyYUPpU4DSeOWoClcsAIpRVeL6thlIZredwmIwyFGmsHd8Qy9p4CSPHJEmPUOqmrqQpcvwCMK7dxnQvJydnImg3Vp0/tF0vN1v1EltSj2xj/st8kfr/PSTsjCdli+yc47TB9dPwmkYOd0KRJTCTgadYzFK7/MhGPLHlUclSnoGpPRWOspmIjLUFbAuCJOcFYqKJVZYQBXrv2JUCUbH/Rd1a9erd+qx0eBGme7/vqHnkuoUfJEUL6F4Ljo9Q/1fo+/oYSvCNvnQI3tFcYNo4ZdvonXTcCO6tDaFI95C8jmHaWeKpRzEXZc6R85x+moQAyumcR5bI/HOogVWzGDjRZ7OTaGwHS4ZmaTAslhLFBCUS2bI40o2rWK+eEncUWviU6HSQ1Ut7u21BKNjEHUn527N9tCRb+glDRxfvCQoV5D0YLR0GY7nMqTIXlF+yZyqX2MXvOE2yXlGvd/eVU/OzqRq3JTKuX9EJZMsaVJKrGqi/9o3TJxq7TwqUbUzX356+sZ9tWo+3vm/o8sfsChKAQWopIrl1H6CYlTlLK6u17SEW+tWzYpx5Bx6SQMnbUBZvJIDeR6MMZJqUwUMIovLFNKvKdEmrQZ9j0BrH6Zp3Ax5a0clkyxpUkpToTOT66wpqshWiVJd9P2pC3cPb2sxz4tapbOYAlRSxXJqP0ExqnpImmhzrdFYq7FuUe6hlzRw0gaUhdLEBleeB08GGQZRb+c2WjRpYzUp/VmRT7+GFGrEF2hajcQ9XAt9AGpzuGPe8ySNm+I59xsS9rQiSs+ffvTNoY5NlqzS8VZ0KUq2SpTCJFAzQa3CHCFbASq1Yj7tJzoMgWJUT9GCe5ubVtu84NBLGjhZolFjrjbFa84E9LYAIfYPgsl6TL9GikiZNa2Y2YssNP5Jf2zjwVUhci8lZz993UNU0D6aEVFqt1Q4ODGg/b6YlJKCDxkit8SOYQYqpXow2B/U244mN6EAlbCHSCRVzBtP+fherNthTHwKe4j52V+vi05faOglDRxvvI4MLsXgiqQxcGSQbKTVpmSvgD/EKuns3H/33+d+za9rnAs1F7v3l9o7jzK/4fjw0alvat+X1REdB0bNH6Ja+zxehWhAj4E/xF7RG2mqbJUow+37hzXfehmMKGpl6o5TQH/ADLEiIE1VES9zK0aVYFRmiB2jLFXfya1ND8ojewUMIhgj0AdAnJBBPIDIFAAAaDBDBGME+gCII3sFDlUAAICBQQQAAAYGEQAAGBhEAABgkg2idqzhftHYS4xzWb4AYIzp81hwxWEMMgOfIap3YnxUcsghwoAEngZYdEDYszeIMKixMFZjMINkg0iCT334nvxwqeT0ViWq11SqQhWSQ+iC0W7SvlJ0LNAirrtpHSlfbixCqSoAe4gheqYS1Wu0M66hVKEa2SYdfrQnZVApOfcQ9YUh5HowiPd6JBSPuU8yXxxh400k7WmoLGVkOAEhsqrIIWJ4WkRWxs62skWXnHvqYGrm13iKCzypDPNILyXVJ1uFypJTW4piZm8eTdxtq0htUvPV0Pd6cy2ToVEVIk9X53UuyZirdDnGi8jCRdJjQSEexENplck5YEeBV17sFFp7GqQL69hM3+ALFQ5FR90Shu6v65uUjpORLzV9Wz/LYRMZ8ezGXtdEAsqUHjMhzsJeJJHHF57w0Bfy90fx1lufXw0qqiKiIIeAHukl6zEwKvAk/BWe8kgvJdZHFM0uCD0qVOlF+7KlsI3PV0OvplWouWRYkNBQnlrlqUYaw+4PMT4W6CUldHUdpNHET8kHZVgHZB4cyelcDtHxq2OjozWUkX5MXej/Gn3HW4EhRvaKZAexro3oJYm2CsWHiL5u00yymdUj8cZxGXJYp4hGxhIk1SqZYgYxauCsZaF45wNVIeOF41WFx+MpjeEgTeCcNRQf1EHhMkmqj0ivzE2yClVC0Tmy1eSooURkm20Q4zkk1qpgNWKMhEHM29WjiZPCoSFnR214lMlHHN7RWqYy8VyGC9krsvcQ0/Rlwq806shyevmOag49pzfT5gy/50ymWgolSKtVJRRVgzr79o9r7+yRZ3+xbReRXuqG5PrkU6FKoFI1qAKaVhGgUeWnkq7OA8qsYFMFqkJ4R2upymSO6CEi2yCm6ctkvlJ9VE1vgJZjoKwqapy0WlVCCTUoZRMpZnbu5j3eCItIL3VDqmxTHhUqPxWqQRXStIoAjapkqunqhbThNN7R2vNxN2hynDKXVnrqNJvmmcUNZRLpY8SrX1OOXqvepIouJalBadR0Rv+PSy/pUElSZZtyqVB5SVeD+uW4XJ2zNa30YQg0qnJRRVfXMzueyXmnfh7GU23KrHY9yI0Ac2Hw7kgoxMYCIx4Sd8UjlJW7lGcpAaniNUm18lNsD5E49MkkKWgny8QHtx60gxiXg95YpJj0jby8W2P++lD6UPW8JBWtSHiZtvJ6XzJXDVseTaukPUTKMLmhFN5a5WyoRIZ7D9E7FlK6uhxgTPJ4CcZdTKDKoZLpPIMiIqPVEK9MkCx1wA4pslck+0PsNBdmti7tnxyFmzy+8HqjEtVr1GwrnwrV2AN/iCBOfn+IJ1KKOo3eqET1mrwqVACAdHwzRP7KJy1zT5LETcbsACpRJ4KXqRpVmCGCOLJXQEIAjBHoAyBOyCAeQGQKAAA0mCGCMQJ9AMSRvSLH9xABAGA8gEEEAAAGBhEAADS12v8DWfh/e5fAnqoAAAAASUVORK5CYII=)\n",
        "\n",
        "\n"
      ],
      "metadata": {
        "id": "m5Divl5LOvgc"
      }
    },
    {
      "cell_type": "markdown",
      "source": [
        "## Instrucciones\n",
        "1. Cree una función lambda get_last_name que tome una cadena con el nombre y apellido de alguien (es decir, John Smith) y devuelva solo el apellido (es decir, Smith).\n",
        "2. El DataFrame df representa las horas trabajadas por diferentes empleados en el transcurso de la semana. Contiene las siguientes columnas:\n",
        "* 'name': el nombre del empleado\n",
        "* 'hourly_wage': el salario por hora del empleado\n",
        "* 'hours_worked': el número de horas trabajadas esta semana\n",
        "\n",
        "Utilice la función lambda get_last_name para crear una nueva columna last_name con solo el apellido de los empleados."
      ],
      "metadata": {
        "id": "W_HA2zCtPoUb"
      }
    },
    {
      "cell_type": "code",
      "source": [
        "import pandas as pd\n",
        "\n",
        "df = pd.read_csv('empleados.csv')\n",
        "print(df.head())\n",
        "\n",
        "# Add columns here\n",
        "\n"
      ],
      "metadata": {
        "id": "d4h7O2lIPTez"
      },
      "execution_count": null,
      "outputs": []
    },
    {
      "cell_type": "markdown",
      "source": [
        "# Aplicar una Lambda a una fila\n",
        "\n",
        "También podemos operar en varias columnas a la vez. Si usamos apply sin especificar una sola columna y agregamos el argumento axis=1, la entrada a nuestra función lambda será una fila completa, no una columna. Para acceder a valores particulares de la fila, usamos la sintaxis row.column_name  o row['column_name’'].\n",
        "\n",
        "![5 tabla.png](data:image/png;base64,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)\n",
        "\n",
        "Si queremos agregar el precio con impuestos para cada línea, necesitaremos mirar dos columnas: Price y Is taxed?.\n",
        "\n",
        "¿Si está gravado? es Sí, entonces multiplicaremos el precio por 1,075 (para un impuesto sobre las ventas del 7,5%).\n",
        "\n",
        "¿Si está gravado? es No, simplemente tendremos Precio sin multiplicarlo.\n",
        "\n",
        "Podemos crear esta columna usando una función lambda y la palabra clave axis=1:\n",
        "\n",
        "\n",
        "\n",
        "```\n",
        "df['Price with Tax'] = df.apply(lambda row:\n",
        "     row['Price'] * 1.075\n",
        "     if row['Is taxed?'] == 'Yes'\n",
        "     else row['Price'],\n",
        "     axis=1\n",
        ")\n",
        "\n",
        "```\n",
        "\n"
      ],
      "metadata": {
        "id": "Pl6z2fGSQDJo"
      }
    },
    {
      "cell_type": "markdown",
      "source": [
        "## Instrucciones\n",
        "1. Si un empleado trabajó más de 40 horas, se le deben pagar horas extras (1,5 veces el salario por hora normal).\n",
        "Por ejemplo, si un empleado trabajó 43 horas y ganó $10 por hora, recibiría $400 por las primeras 40 horas que trabajó y $45 adicionales por las 3 horas extra, para un total de $445.\n",
        "Cree una función lambda total_earned que acepte una fila de entrada con las claves hours_worked y hourly_wage y utilice una declaración if para calcular los salarios totales ganados.\n",
        "2. Utilice la función lambda total_earned y aplique para agregar una columna total_earned a df con el monto total ganado por cada empleado."
      ],
      "metadata": {
        "id": "i7WUlinCRYYS"
      }
    },
    {
      "cell_type": "code",
      "source": [
        "import pandas as pd\n",
        "\n",
        "df = pd.read_csv('empleados.csv')\n",
        "\n",
        "# ingrese acá su código\n",
        "\n",
        "\n",
        "print(df)\n"
      ],
      "metadata": {
        "id": "MKTe1byNRlhq"
      },
      "execution_count": null,
      "outputs": []
    },
    {
      "cell_type": "markdown",
      "source": [
        "# Cambiar el nombre de las columnas\n",
        "\n",
        "Cuando obtenemos nuestros datos de otras fuentes, a menudo queremos cambiar los nombres de las columnas. Por ejemplo, es posible que deseemos que todos los nombres de las columnas sigan las reglas de nombres de variables, de modo que podamos usar df.column_name (que completa con tabulaciones) en lugar de df['column_name'] (que ocupa espacio adicional).\n",
        "\n",
        "Puede cambiar todos los nombres de las columnas a la vez configurando la propiedad .columns en una lista diferente.\n",
        "\n",
        "Puede etiquetar mal las columnas fácilmente si se equivoca en el orden. He aquí un ejemplo:\n",
        "\n",
        "\n",
        "\n",
        "```\n",
        "df = pd.DataFrame({\n",
        "    'name': ['John', 'Jane', 'Sue', 'Fred'],\n",
        "    'age': [23, 29, 21, 18]\n",
        "})\n",
        "df.columns = ['First Name', 'Age']\n",
        "\n",
        "```\n",
        "\n"
      ],
      "metadata": {
        "id": "7ilVZRJNR89o"
      }
    },
    {
      "cell_type": "markdown",
      "source": [
        "## Instrucciones\n",
        "1. El DataFrame df contiene datos sobre películas de IMDb.\n",
        "Queremos presentar estos datos a algunos productores de cine. En este momento, los nombres de nuestras columnas están en minúsculas y no son muy descriptivos. Modifiquemos df usando el atributo .columns para realizar los siguientes cambios en las columnas:\n",
        "\n",
        "![6 tabla.png](data:image/png;base64,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)"
      ],
      "metadata": {
        "id": "ejVjG9WdSS-P"
      }
    },
    {
      "cell_type": "code",
      "source": [
        "import pandas as pd\n",
        "\n",
        "df = pd.read_csv('imdb.csv')\n",
        "\n",
        "# Rename columns here\n",
        "\n"
      ],
      "metadata": {
        "id": "UTZsTPcXSmid"
      },
      "execution_count": null,
      "outputs": []
    },
    {
      "cell_type": "markdown",
      "source": [
        "También puede cambiar el nombre de columnas individuales utilizando el método .rename. Pase un diccionario como el siguiente al argumento de palabra clave de columnas:\n",
        "\n",
        "{'nombre_columna_antigua1': 'nombre_columna_nueva1', 'nombre_columna_antigua2': 'nombre_columna_nueva2'}\n",
        "\n",
        "\n",
        "\n",
        "```\n",
        "df = pd.DataFrame({\n",
        "    'name': ['John', 'Jane', 'Sue', 'Fred'],\n",
        "    'age': [23, 29, 21, 18]\n",
        "})\n",
        "\n",
        "df.rename(columns={\n",
        "    'name': 'First Name',\n",
        "    'age': 'Age'},\n",
        "    inplace=True)\n",
        "\n",
        "```\n",
        "\n",
        "El código anterior cambia name a First name y la age a Age.\n",
        "\n",
        "Usar renname solo con la palabra clave de las columnas creará un nuevo DataFrame, dejando su DataFrame original sin cambios. Es por eso que también pasamos el argumento de palabra clave inplace=True. Usar inplace=True nos permite editar el DataFrame original.\n",
        "\n",
        "Hay varias razones por las que .rename es preferible a .columns:\n",
        "\n",
        "* Puedes cambiar el nombre de solo una columna\n",
        "* Puede ser específico sobre qué nombres de columnas se cambian (con .column puede cambiar accidentalmente los nombres de las columnas si no tiene cuidado)\n",
        "\n",
        "Nota: Si escribe mal uno de los nombres de las columnas originales, este comando no fallará. Simplemente no cambiará nada."
      ],
      "metadata": {
        "id": "b3-5s47ZS-HG"
      }
    },
    {
      "cell_type": "markdown",
      "source": [
        "## Instrucciones\n",
        "1. Si no supiéramos que df es una tabla de clasificaciones de películas, el name de la columna podría resultar confuso.\n",
        "\n",
        "Para aclarar, cambiemos el nombre a movie_title.\n",
        "Utilice la palabra clave inplace=True para modificar df en lugar de crear un nuevo DataFrame."
      ],
      "metadata": {
        "id": "Qzcnle3lTp8C"
      }
    },
    {
      "cell_type": "code",
      "source": [
        "import pandas as pd\n",
        "\n",
        "df = pd.read_csv('imdb.csv')\n",
        "\n",
        "# Rename columns here\n",
        "\n",
        "print(df)\n"
      ],
      "metadata": {
        "id": "ujjcwziPT0zq"
      },
      "execution_count": null,
      "outputs": []
    },
    {
      "cell_type": "markdown",
      "source": [
        "# **Trabajo**\n",
        "\n",
        "Usted es el analista de datos principal de una cadena de tiendas de jardinería llamada Petal Power.\n",
        "\n",
        "Debe realizar:\n",
        "\n",
        "**Responder correos electrónicos de clientes**\n",
        "1. Los datos de todas las ubicaciones de Petal Power se encuentran en el archivo inventario.csv. Cargue los datos en un DataFrame llamado inventario.\n",
        "2. Inspeccione las primeras 10 filas de inventario.\n",
        "3. Las primeras 10 filas representan datos de su ubicación en Staten Island. Seleccione estas filas y guárdelas en staten_island.\n",
        "4. Un cliente acaba de enviarle un correo electrónico preguntándole qué productos se venden en su ubicación de Staten Island. Seleccione la columna product_description de staten_island y guárdela en la variable product_request.\n",
        "5. Otro cliente envía un correo electrónico para preguntar qué tipos de semillas se venden en la tienda de Brooklyn.\n",
        "Seleccione todas las filas donde la ubicación sea igual a Brooklyn y el tipo de producto sea igual a las semillas y guárdelas en la variable seed_request.\n",
        "\n",
        "**Inventario**\n",
        "6. Agregue una columna al inventario llamada in_stock que sea Verdadera si la cantidad es mayor que 0 y Falso si la cantidad es igual a 0.\n",
        "7. Petal Power quiere saber qué tan valioso es su inventario actual.\n",
        "Cree una columna llamada valor_total que sea igual al precio multiplicado por la cantidad.\n",
        "8. El departamento de Marketing quiere una descripción completa de cada producto de su catálogo.\n",
        "\n",
        "La siguiente función lambda combina tipo_producto y descripción_producto en una sola cadena:\n",
        "\n",
        "\n",
        "```\n",
        "combine_lambda = fila lambda: \\\n",
        "     '{} - {}'.formato(fila.tipo_producto,\n",
        "                      fila.descripción_producto)\n",
        "```\n",
        "\n",
        "\n",
        "Pegue esta función.\n",
        "9. Usando combine_lambda, cree una nueva columna en el inventario llamada full_description que tenga la descripción completa de cada producto."
      ],
      "metadata": {
        "id": "5NmbTHeQUCRg"
      }
    },
    {
      "cell_type": "code",
      "source": [
        "import pandas as pd\n",
        "\n"
      ],
      "metadata": {
        "id": "MXAIcLECVB09"
      },
      "execution_count": null,
      "outputs": []
    }
  ]
}